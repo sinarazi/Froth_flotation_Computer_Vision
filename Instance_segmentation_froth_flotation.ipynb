{
  "nbformat": 4,
  "nbformat_minor": 0,
  "metadata": {
    "colab": {
      "name": "Instance_segmentation_froth_flotation.ipynb",
      "provenance": [],
      "collapsed_sections": [],
      "machine_shape": "hm",
      "include_colab_link": true
    },
    "kernelspec": {
      "display_name": "Python 3",
      "language": "python",
      "name": "python3"
    },
    "accelerator": "GPU"
  },
  "cells": [
    {
      "cell_type": "markdown",
      "metadata": {
        "id": "view-in-github",
        "colab_type": "text"
      },
      "source": [
        "<a href=\"https://colab.research.google.com/github/sinarazi/Instance_segmentation_froth_flotation/blob/main/Instance_segmentation_froth_flotation.ipynb\" target=\"_parent\"><img src=\"https://colab.research.google.com/assets/colab-badge.svg\" alt=\"Open In Colab\"/></a>"
      ]
    },
    {
      "cell_type": "markdown",
      "source": [
        "# Instance segmentation of froth flotation using Mask R-CNN"
      ],
      "metadata": {
        "id": "78Il7NnaJnkJ"
      }
    },
    {
      "cell_type": "markdown",
      "metadata": {
        "id": "FbkIqDpyLZQd"
      },
      "source": [
        "### This section ensures all the library version dependeices are met"
      ]
    },
    {
      "cell_type": "code",
      "metadata": {
        "id": "Cux3rWvWCdmB"
      },
      "source": [
        "! pip install 'h5py==2.10.0' --force-reinstall\n"
      ],
      "execution_count": null,
      "outputs": []
    },
    {
      "cell_type": "code",
      "metadata": {
        "colab": {
          "base_uri": "https://localhost:8080/"
        },
        "id": "NINOK3etdGCi",
        "outputId": "09197614-c5bd-4a0c-e5c6-86b4e4c31b9b"
      },
      "source": [
        "%tensorflow_version 1.x"
      ],
      "execution_count": 2,
      "outputs": [
        {
          "output_type": "stream",
          "name": "stdout",
          "text": [
            "TensorFlow 1.x selected.\n"
          ]
        }
      ]
    },
    {
      "cell_type": "code",
      "metadata": {
        "id": "IfVBBO8-CvKf"
      },
      "source": [
        "!pip install -U scikit-image==0.16.2"
      ],
      "execution_count": null,
      "outputs": []
    },
    {
      "cell_type": "markdown",
      "metadata": {
        "id": "CjbJ4qm2Mowx"
      },
      "source": [
        "### Run the following cell TWICE to ensure keras 2.1.0 is installed."
      ]
    },
    {
      "cell_type": "code",
      "metadata": {
        "id": "lKGXzuzslWnh"
      },
      "source": [
        "!pip install -U keras==2.1.0"
      ],
      "execution_count": null,
      "outputs": []
    },
    {
      "cell_type": "code",
      "metadata": {
        "colab": {
          "base_uri": "https://localhost:8080/"
        },
        "id": "6fnuO97OdrJD",
        "outputId": "6cc45214-a103-4cfa-dd92-18a67b96dd82"
      },
      "source": [
        "import tensorflow\n",
        "import skimage\n",
        "print(tensorflow.__version__,  skimage.__version__)"
      ],
      "execution_count": 5,
      "outputs": [
        {
          "output_type": "stream",
          "name": "stdout",
          "text": [
            "1.15.2 0.16.2\n"
          ]
        }
      ]
    },
    {
      "cell_type": "code",
      "metadata": {
        "colab": {
          "base_uri": "https://localhost:8080/",
          "height": 53
        },
        "id": "hwHjIahsk8nd",
        "outputId": "4a0ceba3-77d4-4777-c663-56e0c22d7f16"
      },
      "source": [
        "import keras\n",
        "keras.__version__"
      ],
      "execution_count": 7,
      "outputs": [
        {
          "output_type": "stream",
          "name": "stderr",
          "text": [
            "Using TensorFlow backend.\n"
          ]
        },
        {
          "output_type": "execute_result",
          "data": {
            "application/vnd.google.colaboratory.intrinsic+json": {
              "type": "string"
            },
            "text/plain": [
              "'2.1.0'"
            ]
          },
          "metadata": {},
          "execution_count": 7
        }
      ]
    },
    {
      "cell_type": "code",
      "metadata": {
        "id": "qUao8j7AZpzI"
      },
      "source": [
        "! git clone https://github.com/matterport/Mask_RCNN"
      ],
      "execution_count": null,
      "outputs": []
    },
    {
      "cell_type": "code",
      "metadata": {
        "id": "mSrQ8OWEdJfP"
      },
      "source": [
        "import os\n",
        "import sys\n",
        "import random\n",
        "import math\n",
        "import re\n",
        "import time\n",
        "import numpy as np\n",
        "import cv2\n",
        "import matplotlib\n",
        "import matplotlib.pyplot as plt\n",
        "import json\n",
        "import pandas as pd\n",
        "\n",
        "from skimage.io import imread, imshow, imread_collection, concatenate_images\n",
        "from skimage.transform import resize"
      ],
      "execution_count": 10,
      "outputs": []
    },
    {
      "cell_type": "markdown",
      "metadata": {
        "id": "gsfVLciacZ7y"
      },
      "source": [
        "### Next, we read input and unzip it. This can take time."
      ]
    },
    {
      "cell_type": "code",
      "metadata": {
        "id": "y67wYoOgLvb7"
      },
      "source": [
        "# Downloading dataset from github. This cell needs execution ONLY ONCE!\n",
        "!wget https://raw.githubusercontent.com/AakashSudhakar/2018-data-science-bowl/master/compressed_files/stage1_test.zip -c\n",
        "!wget https://raw.githubusercontent.com/AakashSudhakar/2018-data-science-bowl/master/compressed_files/stage1_train.zip -c\n",
        "\n",
        "!mkdir stage1_train stage1_test\n",
        "\n",
        "!unzip stage1_train.zip -d stage1_train/\n",
        "!unzip stage1_test.zip -d stage1_test/"
      ],
      "execution_count": null,
      "outputs": []
    },
    {
      "cell_type": "code",
      "metadata": {
        "id": "EMwapxaFSZIH"
      },
      "source": [
        "# # Data Path\n",
        "TRAIN_PATH = './stage1_train/'\n",
        "#TEST_PATH = './test/' # froth dataset\n",
        "TEST_PATH = './stage1_test' # nucleus\n",
        "# # Get train and test IDs\n",
        "train_ids = next(os.walk(TRAIN_PATH))[1]\n",
        "test_ids = next(os.walk(TEST_PATH))[1]\n"
      ],
      "execution_count": 12,
      "outputs": []
    },
    {
      "cell_type": "code",
      "metadata": {
        "id": "er57LZceZk4V",
        "colab": {
          "base_uri": "https://localhost:8080/"
        },
        "outputId": "a7fd1070-31d2-4386-e495-bfb916ad5d9d"
      },
      "source": [
        "from mrcnn.config import Config\n",
        "from mrcnn import utils\n",
        "import mrcnn.model as modellib\n",
        "from mrcnn import visualize\n",
        "from mrcnn.model import log\n",
        "\n",
        "%matplotlib inline \n",
        "\n",
        "# Root directory of the project\n",
        "ROOT_DIR = os.getcwd()\n",
        "\n",
        "# Directory to save logs and trained model\n",
        "MODEL_DIR = os.path.join(ROOT_DIR, \"logs\")\n",
        "\n",
        "# Local path to trained weights file\n",
        "COCO_MODEL_PATH = os.path.join(ROOT_DIR, \"mask_rcnn_coco.h5\")\n",
        "# Download COCO trained weights from Releases if needed\n",
        "if not os.path.exists(COCO_MODEL_PATH):\n",
        "    utils.download_trained_weights(COCO_MODEL_PATH)"
      ],
      "execution_count": 13,
      "outputs": [
        {
          "output_type": "stream",
          "name": "stdout",
          "text": [
            "Downloading pretrained model to /content/mask_rcnn_coco.h5 ...\n",
            "... done downloading pretrained model!\n"
          ]
        }
      ]
    },
    {
      "cell_type": "markdown",
      "source": [
        "# Resnet backbone"
      ],
      "metadata": {
        "id": "aJLfcJsVosXt"
      }
    },
    {
      "cell_type": "code",
      "source": [
        "import keras.backend as K\n",
        "import keras.layers as KL\n",
        "import keras.engine as KE\n",
        "import keras.models as KM\n",
        "\n",
        "def identity_block(input_tensor, kernel_size, filters, stage, block,\n",
        "                   use_bias=True, train_bn=True):\n",
        "    nb_filter1, nb_filter2, nb_filter3 = filters\n",
        "    conv_name_base = 'res' + str(stage) + block + '_branch'\n",
        "    bn_name_base = 'bn' + str(stage) + block + '_branch'\n",
        "\n",
        "    x = KL.Conv2D(nb_filter1, (1, 1), name=conv_name_base + '2a',\n",
        "                  use_bias=use_bias)(input_tensor)\n",
        "    x = BatchNorm(name=bn_name_base + '2a')(x, training=train_bn)\n",
        "    x = KL.Activation('relu')(x)\n",
        "\n",
        "    x = KL.Conv2D(nb_filter2, (kernel_size, kernel_size), padding='same',\n",
        "                  name=conv_name_base + '2b', use_bias=use_bias)(x)\n",
        "    x = BatchNorm(name=bn_name_base + '2b')(x, training=train_bn)\n",
        "    x = KL.Activation('relu')(x)\n",
        "\n",
        "    x = KL.Conv2D(nb_filter3, (1, 1), name=conv_name_base + '2c',\n",
        "                  use_bias=use_bias)(x)\n",
        "    x = BatchNorm(name=bn_name_base + '2c')(x, training=train_bn)\n",
        "\n",
        "    x = KL.Add()([x, input_tensor])\n",
        "    x = KL.Activation('relu', name='res' + str(stage) + block + '_out')(x)\n",
        "    return x\n",
        "\n",
        "\n",
        "def conv_block(input_tensor, kernel_size, filters, stage, block,\n",
        "               strides=(2, 2), use_bias=True, train_bn=True):\n",
        "    nb_filter1, nb_filter2, nb_filter3 = filters\n",
        "    conv_name_base = 'res' + str(stage) + block + '_branch'\n",
        "    bn_name_base = 'bn' + str(stage) + block + '_branch'\n",
        "\n",
        "    x = KL.Conv2D(nb_filter1, (1, 1), strides=strides,\n",
        "                  name=conv_name_base + '2a', use_bias=use_bias)(input_tensor)\n",
        "    x = BatchNorm(name=bn_name_base + '2a')(x, training=train_bn)\n",
        "    x = KL.Activation('relu')(x)\n",
        "\n",
        "    x = KL.Conv2D(nb_filter2, (kernel_size, kernel_size), padding='same',\n",
        "                  name=conv_name_base + '2b', use_bias=use_bias)(x)\n",
        "    x = BatchNorm(name=bn_name_base + '2b')(x, training=train_bn)\n",
        "    x = KL.Activation('relu')(x)\n",
        "\n",
        "    x = KL.Conv2D(nb_filter3, (1, 1), name=conv_name_base +\n",
        "                  '2c', use_bias=use_bias)(x)\n",
        "    x = BatchNorm(name=bn_name_base + '2c')(x, training=train_bn)\n",
        "\n",
        "    shortcut = KL.Conv2D(nb_filter3, (1, 1), strides=strides,\n",
        "                         name=conv_name_base + '1', use_bias=use_bias)(input_tensor)\n",
        "    shortcut = BatchNorm(name=bn_name_base + '1')(shortcut, training=train_bn)\n",
        "\n",
        "    x = KL.Add()([x, shortcut])\n",
        "    x = KL.Activation('relu', name='res' + str(stage) + block + '_out')(x)\n",
        "    return x\n",
        "\n",
        "\n",
        "def resnet_graph(input_image, architecture, stage5=False, train_bn=True):\n",
        "    assert architecture in [\"resnet50\", \"resnet101\"]\n",
        "    # Stage 1\n",
        "    x = KL.ZeroPadding2D((3, 3))(input_image)\n",
        "    x = KL.Conv2D(64, (7, 7), strides=(2, 2), name='conv1', use_bias=True)(x)\n",
        "    x = BatchNorm(name='bn_conv1')(x, training=train_bn)\n",
        "    x = KL.Activation('relu')(x)\n",
        "    C1 = x = KL.MaxPooling2D((3, 3), strides=(2, 2), padding=\"same\")(x)\n",
        "    # Stage 2\n",
        "    x = conv_block(x, 3, [64, 64, 256], stage=2, block='a', strides=(1, 1), train_bn=train_bn)\n",
        "    x = identity_block(x, 3, [64, 64, 256], stage=2, block='b', train_bn=train_bn)\n",
        "    C2 = x = identity_block(x, 3, [64, 64, 256], stage=2, block='c', train_bn=train_bn)\n",
        "    # Stage 3\n",
        "    x = conv_block(x, 3, [128, 128, 512], stage=3, block='a', train_bn=train_bn)\n",
        "    x = identity_block(x, 3, [128, 128, 512], stage=3, block='b', train_bn=train_bn)\n",
        "    x = identity_block(x, 3, [128, 128, 512], stage=3, block='c', train_bn=train_bn)\n",
        "    C3 = x = identity_block(x, 3, [128, 128, 512], stage=3, block='d', train_bn=train_bn)\n",
        "    # Stage 4\n",
        "    x = conv_block(x, 3, [256, 256, 1024], stage=4, block='a', train_bn=train_bn)\n",
        "    block_count = {\"resnet50\": 5, \"resnet101\": 22}[architecture]\n",
        "    for i in range(block_count):\n",
        "        x = identity_block(x, 3, [256, 256, 1024], stage=4, block=chr(98 + i), train_bn=train_bn)\n",
        "    C4 = x\n",
        "    # Stage 5\n",
        "    if stage5:\n",
        "        x = conv_block(x, 3, [512, 512, 2048], stage=5, block='a', train_bn=train_bn)\n",
        "        x = identity_block(x, 3, [512, 512, 2048], stage=5, block='b', train_bn=train_bn)\n",
        "        C5 = x = identity_block(x, 3, [512, 512, 2048], stage=5, block='c', train_bn=train_bn)\n",
        "    else:\n",
        "        C5 = None\n",
        "    return [C1, C2, C3, C4, C5]"
      ],
      "metadata": {
        "id": "OksPQqFGmrlp"
      },
      "execution_count": 15,
      "outputs": []
    },
    {
      "cell_type": "markdown",
      "source": [
        "# Proposal Layer"
      ],
      "metadata": {
        "id": "gmN_WeJ6ozcM"
      }
    },
    {
      "cell_type": "code",
      "source": [
        "def apply_box_deltas_graph(boxes, deltas):\n",
        "\n",
        "    # Convert to y, x, h, w\n",
        "    height = boxes[:, 2] - boxes[:, 0]\n",
        "    width = boxes[:, 3] - boxes[:, 1]\n",
        "    center_y = boxes[:, 0] + 0.5 * height\n",
        "    center_x = boxes[:, 1] + 0.5 * width\n",
        "    # Apply deltas\n",
        "    center_y += deltas[:, 0] * height\n",
        "    center_x += deltas[:, 1] * width\n",
        "    height *= tf.exp(deltas[:, 2])\n",
        "    width *= tf.exp(deltas[:, 3])\n",
        "    # Convert back to y1, x1, y2, x2\n",
        "    y1 = center_y - 0.5 * height\n",
        "    x1 = center_x - 0.5 * width\n",
        "    y2 = y1 + height\n",
        "    x2 = x1 + width\n",
        "    result = tf.stack([y1, x1, y2, x2], axis=1, name=\"apply_box_deltas_out\")\n",
        "    return result\n",
        "\n",
        "\n",
        "def clip_boxes_graph(boxes, window):\n",
        "\n",
        "    # Split\n",
        "    wy1, wx1, wy2, wx2 = tf.split(window, 4)\n",
        "    y1, x1, y2, x2 = tf.split(boxes, 4, axis=1)\n",
        "    # Clip\n",
        "    y1 = tf.maximum(tf.minimum(y1, wy2), wy1)\n",
        "    x1 = tf.maximum(tf.minimum(x1, wx2), wx1)\n",
        "    y2 = tf.maximum(tf.minimum(y2, wy2), wy1)\n",
        "    x2 = tf.maximum(tf.minimum(x2, wx2), wx1)\n",
        "    clipped = tf.concat([y1, x1, y2, x2], axis=1, name=\"clipped_boxes\")\n",
        "    clipped.set_shape((clipped.shape[0], 4))\n",
        "    return clipped\n",
        "\n",
        "\n",
        "class ProposalLayer(KE.Layer):\n",
        "\n",
        "    def __init__(self, proposal_count, nms_threshold, config=None, **kwargs):\n",
        "        super(ProposalLayer, self).__init__(**kwargs)\n",
        "        self.config = config\n",
        "        self.proposal_count = proposal_count\n",
        "        self.nms_threshold = nms_threshold\n",
        "\n",
        "    def call(self, inputs):\n",
        "        # Box Scores. Use the foreground class confidence. [Batch, num_rois, 1]\n",
        "        scores = inputs[0][:, :, 1]\n",
        "        # Box deltas [batch, num_rois, 4]\n",
        "        deltas = inputs[1]\n",
        "        deltas = deltas * np.reshape(self.config.RPN_BBOX_STD_DEV, [1, 1, 4])\n",
        "        # Anchors\n",
        "        anchors = inputs[2]\n",
        "\n",
        "        # Improve performance by trimming to top anchors by score\n",
        "        # and doing the rest on the smaller subset.\n",
        "        pre_nms_limit = tf.minimum(self.config.PRE_NMS_LIMIT, tf.shape(anchors)[1])\n",
        "        ix = tf.nn.top_k(scores, pre_nms_limit, sorted=True,\n",
        "                         name=\"top_anchors\").indices\n",
        "        scores = utils.batch_slice([scores, ix], lambda x, y: tf.gather(x, y),\n",
        "                                   self.config.IMAGES_PER_GPU)\n",
        "        deltas = utils.batch_slice([deltas, ix], lambda x, y: tf.gather(x, y),\n",
        "                                   self.config.IMAGES_PER_GPU)\n",
        "        pre_nms_anchors = utils.batch_slice([anchors, ix], lambda a, x: tf.gather(a, x),\n",
        "                                    self.config.IMAGES_PER_GPU,\n",
        "                                    names=[\"pre_nms_anchors\"])\n",
        "\n",
        "        boxes = utils.batch_slice([pre_nms_anchors, deltas],\n",
        "                                  lambda x, y: apply_box_deltas_graph(x, y),\n",
        "                                  self.config.IMAGES_PER_GPU,\n",
        "                                  names=[\"refined_anchors\"])\n",
        "\n",
        "        window = np.array([0, 0, 1, 1], dtype=np.float32)\n",
        "        boxes = utils.batch_slice(boxes,\n",
        "                                  lambda x: clip_boxes_graph(x, window),\n",
        "                                  self.config.IMAGES_PER_GPU,\n",
        "                                  names=[\"refined_anchors_clipped\"])\n",
        "\n",
        "        # Non-max suppression\n",
        "        def nms(boxes, scores):\n",
        "            indices = tf.image.non_max_suppression(\n",
        "                boxes, scores, self.proposal_count,\n",
        "                self.nms_threshold, name=\"rpn_non_max_suppression\")\n",
        "            proposals = tf.gather(boxes, indices)\n",
        "            # Pad if needed\n",
        "            padding = tf.maximum(self.proposal_count - tf.shape(proposals)[0], 0)\n",
        "            proposals = tf.pad(proposals, [(0, padding), (0, 0)])\n",
        "            return proposals\n",
        "        proposals = utils.batch_slice([boxes, scores], nms,\n",
        "                                      self.config.IMAGES_PER_GPU)\n",
        "        return proposals\n",
        "\n",
        "    def compute_output_shape(self, input_shape):\n",
        "        return (None, self.proposal_count, 4)"
      ],
      "metadata": {
        "id": "PHgzGy50o2uP"
      },
      "execution_count": 20,
      "outputs": []
    },
    {
      "cell_type": "markdown",
      "source": [
        "## ROIAlign Layer"
      ],
      "metadata": {
        "id": "CVPFSqh4pcCf"
      }
    },
    {
      "cell_type": "code",
      "source": [
        "def log2_graph(x):\n",
        "    return tf.log(x) / tf.log(2.0)\n",
        "\n",
        "\n",
        "class PyramidROIAlign(KE.Layer):\n",
        "\n",
        "    def __init__(self, pool_shape, **kwargs):\n",
        "        super(PyramidROIAlign, self).__init__(**kwargs)\n",
        "        self.pool_shape = tuple(pool_shape)\n",
        "\n",
        "    def call(self, inputs):\n",
        "        # Crop boxes [batch, num_boxes, (y1, x1, y2, x2)] in normalized coords\n",
        "        boxes = inputs[0]\n",
        "\n",
        "        # Image meta\n",
        "        # Holds details about the image. See compose_image_meta()\n",
        "        image_meta = inputs[1]\n",
        "\n",
        "        # Feature Maps. List of feature maps from different level of the\n",
        "        # feature pyramid. Each is [batch, height, width, channels]\n",
        "        feature_maps = inputs[2:]\n",
        "\n",
        "        # Assign each ROI to a level in the pyramid based on the ROI area.\n",
        "        y1, x1, y2, x2 = tf.split(boxes, 4, axis=2)\n",
        "        h = y2 - y1\n",
        "        w = x2 - x1\n",
        "        # Use shape of first image. Images in a batch must have the same size.\n",
        "        image_shape = parse_image_meta_graph(image_meta)['image_shape'][0]\n",
        "        # Equation 1 in the Feature Pyramid Networks paper. Account for\n",
        "        # the fact that our coordinates are normalized here.\n",
        "        # e.g. a 224x224 ROI (in pixels) maps to P4\n",
        "        image_area = tf.cast(image_shape[0] * image_shape[1], tf.float32)\n",
        "        roi_level = log2_graph(tf.sqrt(h * w) / (224.0 / tf.sqrt(image_area)))\n",
        "        roi_level = tf.minimum(5, tf.maximum(\n",
        "            2, 4 + tf.cast(tf.round(roi_level), tf.int32)))\n",
        "        roi_level = tf.squeeze(roi_level, 2)\n",
        "\n",
        "        # Loop through levels and apply ROI pooling to each. P2 to P5.\n",
        "        pooled = []\n",
        "        box_to_level = []\n",
        "        for i, level in enumerate(range(2, 6)):\n",
        "            ix = tf.where(tf.equal(roi_level, level))\n",
        "            level_boxes = tf.gather_nd(boxes, ix)\n",
        "\n",
        "            # Box indices for crop_and_resize.\n",
        "            box_indices = tf.cast(ix[:, 0], tf.int32)\n",
        "\n",
        "            # Keep track of which box is mapped to which level\n",
        "            box_to_level.append(ix)\n",
        "\n",
        "            # Stop gradient propogation to ROI proposals\n",
        "            level_boxes = tf.stop_gradient(level_boxes)\n",
        "            box_indices = tf.stop_gradient(box_indices)\n",
        "\n",
        "            pooled.append(tf.image.crop_and_resize(\n",
        "                feature_maps[i], level_boxes, box_indices, self.pool_shape,\n",
        "                method=\"bilinear\"))\n",
        "\n",
        "        # Pack pooled features into one tensor\n",
        "        pooled = tf.concat(pooled, axis=0)\n",
        "\n",
        "        # Pack box_to_level mapping into one array and add another\n",
        "        # column representing the order of pooled boxes\n",
        "        box_to_level = tf.concat(box_to_level, axis=0)\n",
        "        box_range = tf.expand_dims(tf.range(tf.shape(box_to_level)[0]), 1)\n",
        "        box_to_level = tf.concat([tf.cast(box_to_level, tf.int32), box_range],\n",
        "                                 axis=1)\n",
        "        \n",
        "        sorting_tensor = box_to_level[:, 0] * 100000 + box_to_level[:, 1]\n",
        "        ix = tf.nn.top_k(sorting_tensor, k=tf.shape(\n",
        "            box_to_level)[0]).indices[::-1]\n",
        "        ix = tf.gather(box_to_level[:, 2], ix)\n",
        "        pooled = tf.gather(pooled, ix)\n",
        "\n",
        "        # Re-add the batch dimension\n",
        "        shape = tf.concat([tf.shape(boxes)[:2], tf.shape(pooled)[1:]], axis=0)\n",
        "        pooled = tf.reshape(pooled, shape)\n",
        "        return pooled\n",
        "\n",
        "    def compute_output_shape(self, input_shape):\n",
        "        return input_shape[0][:2] + self.pool_shape + (input_shape[2][-1], )\n"
      ],
      "metadata": {
        "id": "xxqs58b3poND"
      },
      "execution_count": 17,
      "outputs": []
    },
    {
      "cell_type": "markdown",
      "source": [
        "## Region Proposal Network (RPN)"
      ],
      "metadata": {
        "id": "eGr3zgK7qGPr"
      }
    },
    {
      "cell_type": "code",
      "source": [
        "def rpn_graph(feature_map, anchors_per_location, anchor_stride):\n",
        "\n",
        "    shared = KL.Conv2D(512, (3, 3), padding='same', activation='relu',\n",
        "                       strides=anchor_stride,\n",
        "                       name='rpn_conv_shared')(feature_map)\n",
        "\n",
        "    # Anchor Score. [batch, height, width, anchors per location * 2].\n",
        "    x = KL.Conv2D(2 * anchors_per_location, (1, 1), padding='valid',\n",
        "                  activation='linear', name='rpn_class_raw')(shared)\n",
        "\n",
        "    # Reshape to [batch, anchors, 2]\n",
        "    rpn_class_logits = KL.Lambda(\n",
        "        lambda t: tf.reshape(t, [tf.shape(t)[0], -1, 2]))(x)\n",
        "\n",
        "    # Softmax on last dimension of BG/FG.\n",
        "    rpn_probs = KL.Activation(\n",
        "        \"softmax\", name=\"rpn_class_xxx\")(rpn_class_logits)\n",
        "\n",
        "    # Bounding box refinement. [batch, H, W, anchors per location * depth]\n",
        "    # where depth is [x, y, log(w), log(h)]\n",
        "    x = KL.Conv2D(anchors_per_location * 4, (1, 1), padding=\"valid\",\n",
        "                  activation='linear', name='rpn_bbox_pred')(shared)\n",
        "\n",
        "    # Reshape to [batch, anchors, 4]\n",
        "    rpn_bbox = KL.Lambda(lambda t: tf.reshape(t, [tf.shape(t)[0], -1, 4]))(x)\n",
        "\n",
        "    return [rpn_class_logits, rpn_probs, rpn_bbox]\n",
        "\n",
        "\n",
        "def build_rpn_model(anchor_stride, anchors_per_location, depth):\n",
        "\n",
        "    input_feature_map = KL.Input(shape=[None, None, depth],\n",
        "                                 name=\"input_rpn_feature_map\")\n",
        "    outputs = rpn_graph(input_feature_map, anchors_per_location, anchor_stride)\n",
        "    return KM.Model([input_feature_map], outputs, name=\"rpn_model\")"
      ],
      "metadata": {
        "id": "bYAxGtlUqJ4U"
      },
      "execution_count": 18,
      "outputs": []
    },
    {
      "cell_type": "markdown",
      "source": [
        "## Feature Pyramid Network Heads"
      ],
      "metadata": {
        "id": "xTaDazfGqPfF"
      }
    },
    {
      "cell_type": "code",
      "source": [
        "def fpn_classifier_graph(rois, feature_maps, image_meta,\n",
        "                         pool_size, num_classes, train_bn=True,\n",
        "                         fc_layers_size=1024):\n",
        "    # ROI Pooling\n",
        "    # Shape: [batch, num_rois, POOL_SIZE, POOL_SIZE, channels]\n",
        "    x = PyramidROIAlign([pool_size, pool_size],\n",
        "                        name=\"roi_align_classifier\")([rois, image_meta] + feature_maps)\n",
        "    # Two 1024 FC layers (implemented with Conv2D for consistency)\n",
        "    x = KL.TimeDistributed(KL.Conv2D(fc_layers_size, (pool_size, pool_size), padding=\"valid\"),\n",
        "                           name=\"mrcnn_class_conv1\")(x)\n",
        "    x = KL.TimeDistributed(BatchNorm(), name='mrcnn_class_bn1')(x, training=train_bn)\n",
        "    x = KL.Activation('relu')(x)\n",
        "    x = KL.TimeDistributed(KL.Conv2D(fc_layers_size, (1, 1)),\n",
        "                           name=\"mrcnn_class_conv2\")(x)\n",
        "    x = KL.TimeDistributed(BatchNorm(), name='mrcnn_class_bn2')(x, training=train_bn)\n",
        "    x = KL.Activation('relu')(x)\n",
        "\n",
        "    shared = KL.Lambda(lambda x: K.squeeze(K.squeeze(x, 3), 2),\n",
        "                       name=\"pool_squeeze\")(x)\n",
        "\n",
        "    # Classifier head\n",
        "    mrcnn_class_logits = KL.TimeDistributed(KL.Dense(num_classes),\n",
        "                                            name='mrcnn_class_logits')(shared)\n",
        "    mrcnn_probs = KL.TimeDistributed(KL.Activation(\"softmax\"),\n",
        "                                     name=\"mrcnn_class\")(mrcnn_class_logits)\n",
        "\n",
        "    # BBox head\n",
        "    # [batch, num_rois, NUM_CLASSES * (dy, dx, log(dh), log(dw))]\n",
        "    x = KL.TimeDistributed(KL.Dense(num_classes * 4, activation='linear'),\n",
        "                           name='mrcnn_bbox_fc')(shared)\n",
        "    # Reshape to [batch, num_rois, NUM_CLASSES, (dy, dx, log(dh), log(dw))]\n",
        "    s = K.int_shape(x)\n",
        "    mrcnn_bbox = KL.Reshape((s[1], num_classes, 4), name=\"mrcnn_bbox\")(x)\n",
        "\n",
        "    return mrcnn_class_logits, mrcnn_probs, mrcnn_bbox\n",
        "\n",
        "\n",
        "def build_fpn_mask_graph(rois, feature_maps, image_meta,\n",
        "                         pool_size, num_classes, train_bn=True):\n",
        "\n",
        "    # ROI Pooling\n",
        "    # Shape: [batch, num_rois, MASK_POOL_SIZE, MASK_POOL_SIZE, channels]\n",
        "    x = PyramidROIAlign([pool_size, pool_size],\n",
        "                        name=\"roi_align_mask\")([rois, image_meta] + feature_maps)\n",
        "\n",
        "    # Conv layers\n",
        "    x = KL.TimeDistributed(KL.Conv2D(256, (3, 3), padding=\"same\"),\n",
        "                           name=\"mrcnn_mask_conv1\")(x)\n",
        "    x = KL.TimeDistributed(BatchNorm(),\n",
        "                           name='mrcnn_mask_bn1')(x, training=train_bn)\n",
        "    x = KL.Activation('relu')(x)\n",
        "\n",
        "    x = KL.TimeDistributed(KL.Conv2D(256, (3, 3), padding=\"same\"),\n",
        "                           name=\"mrcnn_mask_conv2\")(x)\n",
        "    x = KL.TimeDistributed(BatchNorm(),\n",
        "                           name='mrcnn_mask_bn2')(x, training=train_bn)\n",
        "    x = KL.Activation('relu')(x)\n",
        "\n",
        "    x = KL.TimeDistributed(KL.Conv2D(256, (3, 3), padding=\"same\"),\n",
        "                           name=\"mrcnn_mask_conv3\")(x)\n",
        "    x = KL.TimeDistributed(BatchNorm(),\n",
        "                           name='mrcnn_mask_bn3')(x, training=train_bn)\n",
        "    x = KL.Activation('relu')(x)\n",
        "\n",
        "    x = KL.TimeDistributed(KL.Conv2D(256, (3, 3), padding=\"same\"),\n",
        "                           name=\"mrcnn_mask_conv4\")(x)\n",
        "    x = KL.TimeDistributed(BatchNorm(),\n",
        "                           name='mrcnn_mask_bn4')(x, training=train_bn)\n",
        "    x = KL.Activation('relu')(x)\n",
        "\n",
        "    x = KL.TimeDistributed(KL.Conv2DTranspose(256, (2, 2), strides=2, activation=\"relu\"),\n",
        "                           name=\"mrcnn_mask_deconv\")(x)\n",
        "    x = KL.TimeDistributed(KL.Conv2D(num_classes, (1, 1), strides=1, activation=\"sigmoid\"),\n",
        "                           name=\"mrcnn_mask\")(x)\n",
        "    return x\n"
      ],
      "metadata": {
        "id": "6eJ4tEazqO6V"
      },
      "execution_count": 19,
      "outputs": []
    },
    {
      "cell_type": "markdown",
      "source": [
        "## Loss Functions"
      ],
      "metadata": {
        "id": "CeoFcXL1qgAx"
      }
    },
    {
      "cell_type": "code",
      "source": [
        "def smooth_l1_loss(y_true, y_pred):\n",
        "    diff = K.abs(y_true - y_pred)\n",
        "    less_than_one = K.cast(K.less(diff, 1.0), \"float32\")\n",
        "    loss = (less_than_one * 0.5 * diff**2) + (1 - less_than_one) * (diff - 0.5)\n",
        "    return loss\n",
        "\n",
        "\n",
        "def rpn_class_loss_graph(rpn_match, rpn_class_logits):\n",
        "\n",
        "    # Squeeze last dim to simplify\n",
        "    rpn_match = tf.squeeze(rpn_match, -1)\n",
        "    # Get anchor classes. Convert the -1/+1 match to 0/1 values.\n",
        "    anchor_class = K.cast(K.equal(rpn_match, 1), tf.int32)\n",
        "    # Positive and Negative anchors contribute to the loss,\n",
        "    # but neutral anchors (match value = 0) don't.\n",
        "    indices = tf.where(K.not_equal(rpn_match, 0))\n",
        "    # Pick rows that contribute to the loss and filter out the rest.\n",
        "    rpn_class_logits = tf.gather_nd(rpn_class_logits, indices)\n",
        "    anchor_class = tf.gather_nd(anchor_class, indices)\n",
        "    # Cross entropy loss\n",
        "    loss = K.sparse_categorical_crossentropy(target=anchor_class,\n",
        "                                             output=rpn_class_logits,\n",
        "                                             from_logits=True)\n",
        "    loss = K.switch(tf.size(loss) > 0, K.mean(loss), tf.constant(0.0))\n",
        "    return loss\n",
        "\n",
        "\n",
        "def rpn_bbox_loss_graph(config, target_bbox, rpn_match, rpn_bbox):\n",
        "\n",
        "    # Positive anchors contribute to the loss, but negative and\n",
        "    # neutral anchors (match value of 0 or -1) don't.\n",
        "    rpn_match = K.squeeze(rpn_match, -1)\n",
        "    indices = tf.where(K.equal(rpn_match, 1))\n",
        "\n",
        "    # Pick bbox deltas that contribute to the loss\n",
        "    rpn_bbox = tf.gather_nd(rpn_bbox, indices)\n",
        "\n",
        "    # Trim target bounding box deltas to the same length as rpn_bbox.\n",
        "    batch_counts = K.sum(K.cast(K.equal(rpn_match, 1), tf.int32), axis=1)\n",
        "    target_bbox = batch_pack_graph(target_bbox, batch_counts,\n",
        "                                   config.IMAGES_PER_GPU)\n",
        "\n",
        "    loss = smooth_l1_loss(target_bbox, rpn_bbox)\n",
        "    \n",
        "    loss = K.switch(tf.size(loss) > 0, K.mean(loss), tf.constant(0.0))\n",
        "    return loss\n",
        "\n",
        "\n",
        "def mrcnn_class_loss_graph(target_class_ids, pred_class_logits,\n",
        "                           active_class_ids):\n",
        "\n",
        "    target_class_ids = tf.cast(target_class_ids, 'int64')\n",
        "\n",
        "    # Find predictions of classes that are not in the dataset.\n",
        "    pred_class_ids = tf.argmax(pred_class_logits, axis=2)\n",
        "\n",
        "    pred_active = tf.gather(active_class_ids[0], pred_class_ids)\n",
        "\n",
        "    # Loss\n",
        "    loss = tf.nn.sparse_softmax_cross_entropy_with_logits(\n",
        "        labels=target_class_ids, logits=pred_class_logits)\n",
        "\n",
        "    # Erase losses of predictions of classes that are not in the active\n",
        "    # classes of the image.\n",
        "    loss = loss * pred_active\n",
        "\n",
        "    # Computer loss mean. Use only predictions that contribute\n",
        "    # to the loss to get a correct mean.\n",
        "    loss = tf.reduce_sum(loss) / tf.reduce_sum(pred_active)\n",
        "    return loss\n",
        "\n",
        "\n",
        "def mrcnn_bbox_loss_graph(target_bbox, target_class_ids, pred_bbox):\n",
        "\n",
        "    # Reshape to merge batch and roi dimensions for simplicity.\n",
        "    target_class_ids = K.reshape(target_class_ids, (-1,))\n",
        "    target_bbox = K.reshape(target_bbox, (-1, 4))\n",
        "    pred_bbox = K.reshape(pred_bbox, (-1, K.int_shape(pred_bbox)[2], 4))\n",
        "\n",
        "    # Only positive ROIs contribute to the loss. And only\n",
        "    # the right class_id of each ROI. Get their indices.\n",
        "    positive_roi_ix = tf.where(target_class_ids > 0)[:, 0]\n",
        "    positive_roi_class_ids = tf.cast(\n",
        "        tf.gather(target_class_ids, positive_roi_ix), tf.int64)\n",
        "    indices = tf.stack([positive_roi_ix, positive_roi_class_ids], axis=1)\n",
        "\n",
        "    # Gather the deltas (predicted and true) that contribute to loss\n",
        "    target_bbox = tf.gather(target_bbox, positive_roi_ix)\n",
        "    pred_bbox = tf.gather_nd(pred_bbox, indices)\n",
        "\n",
        "    # Smooth-L1 Loss\n",
        "    loss = K.switch(tf.size(target_bbox) > 0,\n",
        "                    smooth_l1_loss(y_true=target_bbox, y_pred=pred_bbox),\n",
        "                    tf.constant(0.0))\n",
        "    loss = K.mean(loss)\n",
        "    return loss\n",
        "\n",
        "\n",
        "def mrcnn_mask_loss_graph(target_masks, target_class_ids, pred_masks):\n",
        "  \n",
        "    # Reshape for simplicity. Merge first two dimensions into one.\n",
        "    target_class_ids = K.reshape(target_class_ids, (-1,))\n",
        "    mask_shape = tf.shape(target_masks)\n",
        "    target_masks = K.reshape(target_masks, (-1, mask_shape[2], mask_shape[3]))\n",
        "    pred_shape = tf.shape(pred_masks)\n",
        "    pred_masks = K.reshape(pred_masks,\n",
        "                           (-1, pred_shape[2], pred_shape[3], pred_shape[4]))\n",
        "    # Permute predicted masks to [N, num_classes, height, width]\n",
        "    pred_masks = tf.transpose(pred_masks, [0, 3, 1, 2])\n",
        "\n",
        "    # Only positive ROIs contribute to the loss. And only\n",
        "    # the class specific mask of each ROI.\n",
        "    positive_ix = tf.where(target_class_ids > 0)[:, 0]\n",
        "    positive_class_ids = tf.cast(\n",
        "        tf.gather(target_class_ids, positive_ix), tf.int64)\n",
        "    indices = tf.stack([positive_ix, positive_class_ids], axis=1)\n",
        "\n",
        "    # Gather the masks (predicted and true) that contribute to loss\n",
        "    y_true = tf.gather(target_masks, positive_ix)\n",
        "    y_pred = tf.gather_nd(pred_masks, indices)\n",
        "\n",
        "    # Compute binary cross entropy. If no positive ROIs, then return 0.\n",
        "    # shape: [batch, roi, num_classes]\n",
        "    loss = K.switch(tf.size(y_true) > 0,\n",
        "                    K.binary_crossentropy(target=y_true, output=y_pred),\n",
        "                    tf.constant(0.0))\n",
        "    loss = K.mean(loss)\n",
        "    return loss"
      ],
      "metadata": {
        "id": "Pk-C1jF4qfuW"
      },
      "execution_count": 21,
      "outputs": []
    },
    {
      "cell_type": "markdown",
      "source": [
        "## Mask R-CNN"
      ],
      "metadata": {
        "id": "MIsRpSUVrHTM"
      }
    },
    {
      "cell_type": "code",
      "source": [
        "class MaskRCNN():\n",
        "\n",
        "    def __init__(self, mode, config, model_dir):\n",
        "\n",
        "        assert mode in ['training', 'inference']\n",
        "        self.mode = mode\n",
        "        self.config = config\n",
        "        self.model_dir = model_dir\n",
        "        self.set_log_dir()\n",
        "        self.keras_model = self.build(mode=mode, config=config)\n",
        "\n",
        "    def build(self, mode, config):\n",
        "\n",
        "        assert mode in ['training', 'inference']\n",
        "\n",
        "        # Image size must be dividable by 2 multiple times\n",
        "        h, w = config.IMAGE_SHAPE[:2]\n",
        "        if h / 2**6 != int(h / 2**6) or w / 2**6 != int(w / 2**6):\n",
        "            raise Exception(\"Image size must be dividable by 2 at least 6 times \"\n",
        "                            \"to avoid fractions when downscaling and upscaling.\"\n",
        "                            \"For example, use 256, 320, 384, 448, 512, ... etc. \")\n",
        "\n",
        "        # Inputs\n",
        "        input_image = KL.Input(\n",
        "            shape=[None, None, config.IMAGE_SHAPE[2]], name=\"input_image\")\n",
        "        input_image_meta = KL.Input(shape=[config.IMAGE_META_SIZE],\n",
        "                                    name=\"input_image_meta\")\n",
        "        if mode == \"training\":\n",
        "            # RPN GT\n",
        "            input_rpn_match = KL.Input(\n",
        "                shape=[None, 1], name=\"input_rpn_match\", dtype=tf.int32)\n",
        "            input_rpn_bbox = KL.Input(\n",
        "                shape=[None, 4], name=\"input_rpn_bbox\", dtype=tf.float32)\n",
        "\n",
        "            # Detection GT (class IDs, bounding boxes, and masks)\n",
        "            # 1. GT Class IDs (zero padded)\n",
        "            input_gt_class_ids = KL.Input(\n",
        "                shape=[None], name=\"input_gt_class_ids\", dtype=tf.int32)\n",
        "            # 2. GT Boxes in pixels (zero padded)\n",
        "            # [batch, MAX_GT_INSTANCES, (y1, x1, y2, x2)] in image coordinates\n",
        "            input_gt_boxes = KL.Input(\n",
        "                shape=[None, 4], name=\"input_gt_boxes\", dtype=tf.float32)\n",
        "            # Normalize coordinates\n",
        "            gt_boxes = KL.Lambda(lambda x: norm_boxes_graph(\n",
        "                x, K.shape(input_image)[1:3]))(input_gt_boxes)\n",
        "            # 3. GT Masks (zero padded)\n",
        "            # [batch, height, width, MAX_GT_INSTANCES]\n",
        "            if config.USE_MINI_MASK:\n",
        "                input_gt_masks = KL.Input(\n",
        "                    shape=[config.MINI_MASK_SHAPE[0],\n",
        "                           config.MINI_MASK_SHAPE[1], None],\n",
        "                    name=\"input_gt_masks\", dtype=bool)\n",
        "            else:\n",
        "                input_gt_masks = KL.Input(\n",
        "                    shape=[config.IMAGE_SHAPE[0], config.IMAGE_SHAPE[1], None],\n",
        "                    name=\"input_gt_masks\", dtype=bool)\n",
        "        elif mode == \"inference\":\n",
        "            # Anchors in normalized coordinates\n",
        "            input_anchors = KL.Input(shape=[None, 4], name=\"input_anchors\")\n",
        "\n",
        "        if callable(config.BACKBONE):\n",
        "            _, C2, C3, C4, C5 = config.BACKBONE(input_image, stage5=True,\n",
        "                                                train_bn=config.TRAIN_BN)\n",
        "        else:\n",
        "            _, C2, C3, C4, C5 = resnet_graph(input_image, config.BACKBONE,\n",
        "                                             stage5=True, train_bn=config.TRAIN_BN)\n",
        "\n",
        "        P5 = KL.Conv2D(config.TOP_DOWN_PYRAMID_SIZE, (1, 1), name='fpn_c5p5')(C5)\n",
        "        P4 = KL.Add(name=\"fpn_p4add\")([\n",
        "            KL.UpSampling2D(size=(2, 2), name=\"fpn_p5upsampled\")(P5),\n",
        "            KL.Conv2D(config.TOP_DOWN_PYRAMID_SIZE, (1, 1), name='fpn_c4p4')(C4)])\n",
        "        P3 = KL.Add(name=\"fpn_p3add\")([\n",
        "            KL.UpSampling2D(size=(2, 2), name=\"fpn_p4upsampled\")(P4),\n",
        "            KL.Conv2D(config.TOP_DOWN_PYRAMID_SIZE, (1, 1), name='fpn_c3p3')(C3)])\n",
        "        P2 = KL.Add(name=\"fpn_p2add\")([\n",
        "            KL.UpSampling2D(size=(2, 2), name=\"fpn_p3upsampled\")(P3),\n",
        "            KL.Conv2D(config.TOP_DOWN_PYRAMID_SIZE, (1, 1), name='fpn_c2p2')(C2)])\n",
        "        # Attach 3x3 conv to all P layers to get the final feature maps.\n",
        "        P2 = KL.Conv2D(config.TOP_DOWN_PYRAMID_SIZE, (3, 3), padding=\"SAME\", name=\"fpn_p2\")(P2)\n",
        "        P3 = KL.Conv2D(config.TOP_DOWN_PYRAMID_SIZE, (3, 3), padding=\"SAME\", name=\"fpn_p3\")(P3)\n",
        "        P4 = KL.Conv2D(config.TOP_DOWN_PYRAMID_SIZE, (3, 3), padding=\"SAME\", name=\"fpn_p4\")(P4)\n",
        "        P5 = KL.Conv2D(config.TOP_DOWN_PYRAMID_SIZE, (3, 3), padding=\"SAME\", name=\"fpn_p5\")(P5)\n",
        "        # P6 is used for the 5th anchor scale in RPN. Generated by\n",
        "        # subsampling from P5 with stride of 2.\n",
        "        P6 = KL.MaxPooling2D(pool_size=(1, 1), strides=2, name=\"fpn_p6\")(P5)\n",
        "\n",
        "        # Note that P6 is used in RPN, but not in the classifier heads.\n",
        "        rpn_feature_maps = [P2, P3, P4, P5, P6]\n",
        "        mrcnn_feature_maps = [P2, P3, P4, P5]\n",
        "\n",
        "        # Anchors\n",
        "        if mode == \"training\":\n",
        "            anchors = self.get_anchors(config.IMAGE_SHAPE)\n",
        "            anchors = np.broadcast_to(anchors, (config.BATCH_SIZE,) + anchors.shape)\n",
        "            # A hack to get around Keras's bad support for constants\n",
        "            anchors = KL.Lambda(lambda x: tf.Variable(anchors), name=\"anchors\")(input_image)\n",
        "        else:\n",
        "            anchors = input_anchors\n",
        "\n",
        "        # RPN Model\n",
        "        rpn = build_rpn_model(config.RPN_ANCHOR_STRIDE,\n",
        "                              len(config.RPN_ANCHOR_RATIOS), config.TOP_DOWN_PYRAMID_SIZE)\n",
        "        # Loop through pyramid layers\n",
        "        layer_outputs = []  # list of lists\n",
        "        for p in rpn_feature_maps:\n",
        "            layer_outputs.append(rpn([p]))\n",
        "        output_names = [\"rpn_class_logits\", \"rpn_class\", \"rpn_bbox\"]\n",
        "        outputs = list(zip(*layer_outputs))\n",
        "        outputs = [KL.Concatenate(axis=1, name=n)(list(o))\n",
        "                   for o, n in zip(outputs, output_names)]\n",
        "\n",
        "        rpn_class_logits, rpn_class, rpn_bbox = outputs\n",
        "\n",
        "        proposal_count = config.POST_NMS_ROIS_TRAINING if mode == \"training\"\\\n",
        "            else config.POST_NMS_ROIS_INFERENCE\n",
        "        rpn_rois = ProposalLayer(\n",
        "            proposal_count=proposal_count,\n",
        "            nms_threshold=config.RPN_NMS_THRESHOLD,\n",
        "            name=\"ROI\",\n",
        "            config=config)([rpn_class, rpn_bbox, anchors])\n",
        "\n",
        "        if mode == \"training\":\n",
        "            # Class ID mask to mark class IDs supported by the dataset the image\n",
        "            # came from.\n",
        "            active_class_ids = KL.Lambda(\n",
        "                lambda x: parse_image_meta_graph(x)[\"active_class_ids\"]\n",
        "                )(input_image_meta)\n",
        "\n",
        "            if not config.USE_RPN_ROIS:\n",
        "                # Ignore predicted ROIs and use ROIs provided as an input.\n",
        "                input_rois = KL.Input(shape=[config.POST_NMS_ROIS_TRAINING, 4],\n",
        "                                      name=\"input_roi\", dtype=np.int32)\n",
        "                # Normalize coordinates\n",
        "                target_rois = KL.Lambda(lambda x: norm_boxes_graph(\n",
        "                    x, K.shape(input_image)[1:3]))(input_rois)\n",
        "            else:\n",
        "                target_rois = rpn_rois\n",
        "\n",
        "            rois, target_class_ids, target_bbox, target_mask =\\\n",
        "                DetectionTargetLayer(config, name=\"proposal_targets\")([\n",
        "                    target_rois, input_gt_class_ids, gt_boxes, input_gt_masks])\n",
        "\n",
        "\n",
        "            mrcnn_class_logits, mrcnn_class, mrcnn_bbox =\\\n",
        "                fpn_classifier_graph(rois, mrcnn_feature_maps, input_image_meta,\n",
        "                                     config.POOL_SIZE, config.NUM_CLASSES,\n",
        "                                     train_bn=config.TRAIN_BN,\n",
        "                                     fc_layers_size=config.FPN_CLASSIF_FC_LAYERS_SIZE)\n",
        "\n",
        "            mrcnn_mask = build_fpn_mask_graph(rois, mrcnn_feature_maps,\n",
        "                                              input_image_meta,\n",
        "                                              config.MASK_POOL_SIZE,\n",
        "                                              config.NUM_CLASSES,\n",
        "                                              train_bn=config.TRAIN_BN)\n",
        "\n",
        "            output_rois = KL.Lambda(lambda x: x * 1, name=\"output_rois\")(rois)\n",
        "\n",
        "            # Losses\n",
        "            rpn_class_loss = KL.Lambda(lambda x: rpn_class_loss_graph(*x), name=\"rpn_class_loss\")(\n",
        "                [input_rpn_match, rpn_class_logits])\n",
        "            rpn_bbox_loss = KL.Lambda(lambda x: rpn_bbox_loss_graph(config, *x), name=\"rpn_bbox_loss\")(\n",
        "                [input_rpn_bbox, input_rpn_match, rpn_bbox])\n",
        "            class_loss = KL.Lambda(lambda x: mrcnn_class_loss_graph(*x), name=\"mrcnn_class_loss\")(\n",
        "                [target_class_ids, mrcnn_class_logits, active_class_ids])\n",
        "            bbox_loss = KL.Lambda(lambda x: mrcnn_bbox_loss_graph(*x), name=\"mrcnn_bbox_loss\")(\n",
        "                [target_bbox, target_class_ids, mrcnn_bbox])\n",
        "            mask_loss = KL.Lambda(lambda x: mrcnn_mask_loss_graph(*x), name=\"mrcnn_mask_loss\")(\n",
        "                [target_mask, target_class_ids, mrcnn_mask])\n",
        "\n",
        "            # Model\n",
        "            inputs = [input_image, input_image_meta,\n",
        "                      input_rpn_match, input_rpn_bbox, input_gt_class_ids, input_gt_boxes, input_gt_masks]\n",
        "            if not config.USE_RPN_ROIS:\n",
        "                inputs.append(input_rois)\n",
        "            outputs = [rpn_class_logits, rpn_class, rpn_bbox,\n",
        "                       mrcnn_class_logits, mrcnn_class, mrcnn_bbox, mrcnn_mask,\n",
        "                       rpn_rois, output_rois,\n",
        "                       rpn_class_loss, rpn_bbox_loss, class_loss, bbox_loss, mask_loss]\n",
        "            model = KM.Model(inputs, outputs, name='mask_rcnn')\n",
        "        else:\n",
        "            # Network Heads\n",
        "            # Proposal classifier and BBox regressor heads\n",
        "            mrcnn_class_logits, mrcnn_class, mrcnn_bbox =\\\n",
        "                fpn_classifier_graph(rpn_rois, mrcnn_feature_maps, input_image_meta,\n",
        "                                     config.POOL_SIZE, config.NUM_CLASSES,\n",
        "                                     train_bn=config.TRAIN_BN,\n",
        "                                     fc_layers_size=config.FPN_CLASSIF_FC_LAYERS_SIZE)\n",
        "\n",
        "            # Detections\n",
        "            # output is [batch, num_detections, (y1, x1, y2, x2, class_id, score)] in\n",
        "            # normalized coordinates\n",
        "            detections = DetectionLayer(config, name=\"mrcnn_detection\")(\n",
        "                [rpn_rois, mrcnn_class, mrcnn_bbox, input_image_meta])\n",
        "\n",
        "            # Create masks for detections\n",
        "            detection_boxes = KL.Lambda(lambda x: x[..., :4])(detections)\n",
        "            mrcnn_mask = build_fpn_mask_graph(detection_boxes, mrcnn_feature_maps,\n",
        "                                              input_image_meta,\n",
        "                                              config.MASK_POOL_SIZE,\n",
        "                                              config.NUM_CLASSES,\n",
        "                                              train_bn=config.TRAIN_BN)\n",
        "\n",
        "            model = KM.Model([input_image, input_image_meta, input_anchors],\n",
        "                             [detections, mrcnn_class, mrcnn_bbox,\n",
        "                                 mrcnn_mask, rpn_rois, rpn_class, rpn_bbox],\n",
        "                             name='mask_rcnn')\n",
        "\n",
        "        # Add multi-GPU support.\n",
        "        if config.GPU_COUNT > 1:\n",
        "            from mrcnn.parallel_model import ParallelModel\n",
        "            model = ParallelModel(model, config.GPU_COUNT)\n",
        "\n",
        "        return model"
      ],
      "metadata": {
        "id": "6ci49JHDrKEv"
      },
      "execution_count": 22,
      "outputs": []
    },
    {
      "cell_type": "markdown",
      "metadata": {
        "id": "MpT9HgC7SZIN"
      },
      "source": [
        "## Configurations"
      ]
    },
    {
      "cell_type": "code",
      "metadata": {
        "id": "jBONWUhASZIO"
      },
      "source": [
        "class ShapesConfig(Config):\n",
        "    # Give the configuration a recognizable name\n",
        "    NAME = \"shapes\"\n",
        "\n",
        "    # Train on 1 GPU and 1 images per GPU. We can put multiple images on each\n",
        "    # GPU. Batch size is (GPUs * images/GPU).\n",
        "    GPU_COUNT = 1\n",
        "    IMAGES_PER_GPU = 1\n",
        "\n",
        "    NUM_CLASSES = 1 + 1  # background + nucleus\n",
        "\n",
        "    IMAGE_MIN_DIM = 896\n",
        "    IMAGE_MAX_DIM = 896\n",
        "\n",
        "    # Use smaller anchors because our image and objects are small\n",
        "    RPN_ANCHOR_SCALES = (8, 16, 64, 128, 256)  # anchor side in pixels\n",
        "\n",
        "    # Aim to allow ROI sampling to pick 33% positive ROIs.\n",
        "    TRAIN_ROIS_PER_IMAGE = 500\n",
        "\n",
        "    # set number of epoch\n",
        "    STEPS_PER_EPOCH = 200\n",
        "\n",
        "    # set validation steps \n",
        "    VALIDATION_STEPS = 50\n",
        "    \n",
        "config = ShapesConfig()\n",
        "config.display()"
      ],
      "execution_count": null,
      "outputs": []
    },
    {
      "cell_type": "markdown",
      "metadata": {
        "id": "7dhvNUELSZIS"
      },
      "source": [
        "## Notebook Preferences"
      ]
    },
    {
      "cell_type": "code",
      "metadata": {
        "id": "sj3zh7wMSZIW"
      },
      "source": [
        "def get_ax(rows=1, cols=1, size=8):\n",
        "      # matplotlib axes array\n",
        "    _, ax = plt.subplots(rows, cols, figsize=(size*cols, size*rows))\n",
        "    return ax"
      ],
      "execution_count": 26,
      "outputs": []
    },
    {
      "cell_type": "markdown",
      "metadata": {
        "id": "sjEu-7I1SZIY"
      },
      "source": [
        "# Dataset\n",
        "\n",
        "Create a synthetic dataset\n",
        "\n",
        "Extend the Dataset class and add a method to load the shapes dataset, `load_shapes()`, and override the following methods:\n",
        "\n",
        "* load_image()\n",
        "* load_mask()\n",
        "* image_reference()"
      ]
    },
    {
      "cell_type": "code",
      "metadata": {
        "id": "YqkR3-OHSZIY"
      },
      "source": [
        "class ShapesDataset(utils.Dataset):\n",
        "    \n",
        "    def load_shapes(self, mode):\n",
        "        \n",
        "        # Add classes\n",
        "        self.add_class(\"shapes\", 1, \"nucleus\")\n",
        "        \n",
        "\n",
        "        if mode == \"train\":  \n",
        "            for n, id_ in enumerate(train_ids):\n",
        "                if n < int(len(train_ids) * 0.9):\n",
        "                    path = TRAIN_PATH + id_\n",
        "                    img_path = path + '/images/'\n",
        "                    self.add_image(\"shapes\", image_id=id_, path=img_path)\n",
        "              \n",
        "        if mode == \"val\":   \n",
        "            for n, id_ in enumerate(train_ids):\n",
        "                if n >= int(len(train_ids) * 0.9):\n",
        "                    path = TRAIN_PATH + id_\n",
        "                    img_path = path + '/images/'\n",
        "                    self.add_image(\"shapes\", image_id=id_, path=img_path)      \n",
        "\n",
        "    def load_image(self, image_id):\n",
        "        \n",
        "        info = self.image_info[image_id]\n",
        "        info = info.get(\"id\")\n",
        "       \n",
        "        path = TRAIN_PATH + info\n",
        "        img = imread(path + '/images/' + info + '.png')[:,:,:3]\n",
        "        img = resize(img, (config.IMAGE_SHAPE[0], config.IMAGE_SHAPE[1]), mode='constant', preserve_range=True)\n",
        "       \n",
        "        return img\n",
        "\n",
        "    def image_reference(self, image_id):\n",
        "        \"\"\"Return the shapes data of the image.\"\"\"\n",
        "        info = self.image_info[image_id]\n",
        "        if info[\"source\"] == \"shapes\":\n",
        "            return info[\"shapes\"]\n",
        "        else:\n",
        "            super(self.__class__).image_reference(self, image_id)\n",
        "\n",
        "    def load_mask(self, image_id):\n",
        "        \"\"\"Generate instance masks for shapes of the given image ID.\n",
        "        \"\"\"\n",
        "        \n",
        "        info = self.image_info[image_id]\n",
        "        info = info.get(\"id\")\n",
        "        path = TRAIN_PATH + info\n",
        "        number_of_masks = len(next(os.walk(path + '/masks/'))[2])\n",
        "        mask = np.zeros([config.IMAGE_SHAPE[0], config.IMAGE_SHAPE[1], number_of_masks], dtype=np.uint8)\n",
        "        iterator = 0\n",
        "        for mask_file in next(os.walk(path + '/masks/'))[2]:\n",
        "            mask_ = imread(path + '/masks/' + mask_file)\n",
        "            mask_ = resize(mask_, (config.IMAGE_SHAPE[0], config.IMAGE_SHAPE[1]), mode='constant', preserve_range=True)\n",
        "            mask[:, :, iterator] = mask_\n",
        "            iterator += 1\n",
        "            # Handle occlusions\n",
        "        occlusion = np.logical_not(mask[:, :, -1]).astype(np.uint8)\n",
        "        for i in range(number_of_masks-2, -1, -1):\n",
        "            mask[:, :, i] = mask[:, :, i] * occlusion\n",
        "            occlusion = np.logical_and(occlusion, np.logical_not(mask[:, :, i]))\n",
        "            \n",
        "        # Map class names to class IDs.\n",
        "        class_ids = np.ones((number_of_masks,), dtype=int)\n",
        "        \n",
        "        return mask, class_ids.astype(np.int32)"
      ],
      "execution_count": 27,
      "outputs": []
    },
    {
      "cell_type": "code",
      "metadata": {
        "id": "wAhNtW_TSZIb"
      },
      "source": [
        "# Training dataset\n",
        "dataset_train = ShapesDataset()\n",
        "dataset_train.load_shapes(\"train\")\n",
        "dataset_train.prepare()\n",
        "\n",
        "# Validation dataset\n",
        "dataset_val = ShapesDataset()\n",
        "dataset_val.load_shapes(\"val\")\n",
        "dataset_val.prepare()"
      ],
      "execution_count": 28,
      "outputs": []
    },
    {
      "cell_type": "code",
      "metadata": {
        "id": "yAizzQC5SZIf",
        "colab": {
          "base_uri": "https://localhost:8080/",
          "height": 688
        },
        "outputId": "08c378b2-c0c1-4f0b-e834-5a8b99509f3b"
      },
      "source": [
        "# Load and display random samples\n",
        "image_ids = np.random.choice(dataset_train.image_ids, 4)\n",
        "for image_id in image_ids:\n",
        "    image = dataset_train.load_image(image_id)\n",
        "    mask, class_ids = dataset_train.load_mask(image_id)\n",
        "    print(image_id, len(class_ids),dataset_train.class_names)\n",
        "    visualize.display_top_masks(image, mask, class_ids, dataset_train.class_names)"
      ],
      "execution_count": 29,
      "outputs": [
        {
          "output_type": "stream",
          "name": "stdout",
          "text": [
            "343 96 ['BG', 'nucleus']\n"
          ]
        },
        {
          "output_type": "display_data",
          "data": {
            "image/png": "[encoded data removed]",
            "text/plain": [
              "<Figure size 1008x360 with 5 Axes>"
            ]
          },
          "metadata": {
            "needs_background": "light"
          }
        },
        {
          "output_type": "stream",
          "name": "stdout",
          "text": [
            "416 21 ['BG', 'nucleus']\n"
          ]
        },
        {
          "output_type": "display_data",
          "data": {
            "image/png": "[encoded data removed]",
            "text/plain": [
              "<Figure size 1008x360 with 5 Axes>"
            ]
          },
          "metadata": {
            "needs_background": "light"
          }
        },
        {
          "output_type": "stream",
          "name": "stdout",
          "text": [
            "302 29 ['BG', 'nucleus']\n"
          ]
        },
        {
          "output_type": "display_data",
          "data": {
            "image/png": "[encoded data removed]",
            "text/plain": [
              "<Figure size 1008x360 with 5 Axes>"
            ]
          },
          "metadata": {
            "needs_background": "light"
          }
        },
        {
          "output_type": "stream",
          "name": "stdout",
          "text": [
            "362 9 ['BG', 'nucleus']\n"
          ]
        },
        {
          "output_type": "display_data",
          "data": {
            "image/png": "[encoded data removed]",
            "text/plain": [
              "<Figure size 1008x360 with 5 Axes>"
            ]
          },
          "metadata": {
            "needs_background": "light"
          }
        }
      ]
    },
    {
      "cell_type": "markdown",
      "metadata": {
        "id": "CyEQKAnMSZIi"
      },
      "source": [
        "## Ceate Model"
      ]
    },
    {
      "cell_type": "code",
      "metadata": {
        "id": "7GCYogpmSZIj"
      },
      "source": [
        "# Create model in training mode\n",
        "model = modellib.MaskRCNN(mode=\"training\", config=config,\n",
        "                          model_dir=MODEL_DIR)"
      ],
      "execution_count": null,
      "outputs": []
    },
    {
      "cell_type": "code",
      "metadata": {
        "id": "wUuC-fI4SZIl",
        "colab": {
          "base_uri": "https://localhost:8080/"
        },
        "outputId": "19521cdc-5cdd-449b-bdd8-e7bc8e1b3247"
      },
      "source": [
        "# Choosing sepecif kind of weight, imagenet, coco, or last\n",
        "init_with = \"coco\"  \n",
        "\n",
        "if init_with == \"imagenet\":\n",
        "    model.load_weights(model.get_imagenet_weights(), by_name=True)\n",
        "elif init_with == \"coco\":\n",
        "    # Load weights trained on MS COCO, but skip layers that\n",
        "    # are different due to the different number of classes\n",
        "    model.load_weights(COCO_MODEL_PATH, by_name=True,\n",
        "                       exclude=[\"mrcnn_class_logits\", \"mrcnn_bbox_fc\", \n",
        "                                \"mrcnn_bbox\", \"mrcnn_mask\"])\n",
        "elif init_with == \"last\":\n",
        "    # Load the last model you trained and continue training\n",
        "    model.load_weights(model.find_last()[1], by_name=True)"
      ],
      "execution_count": 32,
      "outputs": [
        {
          "output_type": "stream",
          "name": "stdout",
          "text": [
            "WARNING:tensorflow:From /usr/local/lib/python3.7/dist-packages/keras/backend/tensorflow_backend.py:158: The name tf.get_default_session is deprecated. Please use tf.compat.v1.get_default_session instead.\n",
            "\n",
            "WARNING:tensorflow:From /usr/local/lib/python3.7/dist-packages/keras/backend/tensorflow_backend.py:163: The name tf.ConfigProto is deprecated. Please use tf.compat.v1.ConfigProto instead.\n",
            "\n",
            "WARNING:tensorflow:From /usr/local/lib/python3.7/dist-packages/keras/backend/tensorflow_backend.py:168: The name tf.Session is deprecated. Please use tf.compat.v1.Session instead.\n",
            "\n",
            "WARNING:tensorflow:From /usr/local/lib/python3.7/dist-packages/keras/backend/tensorflow_backend.py:172: The name tf.global_variables is deprecated. Please use tf.compat.v1.global_variables instead.\n",
            "\n",
            "WARNING:tensorflow:From /usr/local/lib/python3.7/dist-packages/keras/backend/tensorflow_backend.py:181: The name tf.is_variable_initialized is deprecated. Please use tf.compat.v1.is_variable_initialized instead.\n",
            "\n",
            "WARNING:tensorflow:From /usr/local/lib/python3.7/dist-packages/keras/backend/tensorflow_backend.py:188: The name tf.variables_initializer is deprecated. Please use tf.compat.v1.variables_initializer instead.\n",
            "\n"
          ]
        }
      ]
    },
    {
      "cell_type": "markdown",
      "metadata": {
        "id": "WzZuQxylSZIo"
      },
      "source": [
        "## Training\n",
        "\n",
        "Train in two stages:\n",
        "1. Only the heads. Here we're freezing all the backbone layers and training only the randomly initialized layers (i.e. the ones that we didn't use pre-trained weights from MS COCO). To train only the head layers, pass `layers='heads'` to the `train()` function.\n",
        "\n",
        "2. Fine-tune all layers. For this simple example it's not necessary, but we're including it to show the process. Simply pass `layers=\"all` to train all layers."
      ]
    },
    {
      "cell_type": "code",
      "source": [
        "    def train(self, train_dataset, val_dataset, learning_rate, epochs, layers,\n",
        "              augmentation=None, custom_callbacks=None, no_augmentation_sources=None):\n",
        "        assert self.mode == \"training\", \"Create model in training mode.\"\n",
        "\n",
        "        # Pre-defined layer regular expressions\n",
        "        layer_regex = {\n",
        "            # all layers but the backbone\n",
        "            \"heads\": r\"(mrcnn\\_.*)|(rpn\\_.*)|(fpn\\_.*)\",\n",
        "            # From a specific Resnet stage and up\n",
        "            \"3+\": r\"(res3.*)|(bn3.*)|(res4.*)|(bn4.*)|(res5.*)|(bn5.*)|(mrcnn\\_.*)|(rpn\\_.*)|(fpn\\_.*)\",\n",
        "            \"4+\": r\"(res4.*)|(bn4.*)|(res5.*)|(bn5.*)|(mrcnn\\_.*)|(rpn\\_.*)|(fpn\\_.*)\",\n",
        "            \"5+\": r\"(res5.*)|(bn5.*)|(mrcnn\\_.*)|(rpn\\_.*)|(fpn\\_.*)\",\n",
        "            # All layers\n",
        "            \"all\": \".*\",\n",
        "        }\n",
        "        if layers in layer_regex.keys():\n",
        "            layers = layer_regex[layers]\n",
        "\n",
        "        # Data generators\n",
        "        train_generator = data_generator(train_dataset, self.config, shuffle=True,\n",
        "                                         augmentation=augmentation,\n",
        "                                         batch_size=self.config.BATCH_SIZE,\n",
        "                                         no_augmentation_sources=no_augmentation_sources)\n",
        "        val_generator = data_generator(val_dataset, self.config, shuffle=True,\n",
        "                                       batch_size=self.config.BATCH_SIZE)\n",
        "\n",
        "        # Create log_dir if it does not exist\n",
        "        if not os.path.exists(self.log_dir):\n",
        "            os.makedirs(self.log_dir)\n",
        "\n",
        "        # Callbacks\n",
        "        callbacks = [\n",
        "            keras.callbacks.TensorBoard(log_dir=self.log_dir,\n",
        "                                        histogram_freq=0, write_graph=True, write_images=False),\n",
        "            keras.callbacks.ModelCheckpoint(self.checkpoint_path,\n",
        "                                            verbose=0, save_weights_only=True),\n",
        "        ]\n",
        "\n",
        "        # Add custom callbacks to the list\n",
        "        if custom_callbacks:\n",
        "            callbacks += custom_callbacks\n",
        "\n",
        "        # Train\n",
        "        log(\"\\nStarting at epoch {}. LR={}\\n\".format(self.epoch, learning_rate))\n",
        "        log(\"Checkpoint Path: {}\".format(self.checkpoint_path))\n",
        "        self.set_trainable(layers)\n",
        "        self.compile(learning_rate, self.config.LEARNING_MOMENTUM)\n",
        "\n",
        "        if os.name is 'nt':\n",
        "            workers = 0\n",
        "        else:\n",
        "            workers = multiprocessing.cpu_count()\n",
        "\n",
        "        self.keras_model.fit_generator(\n",
        "            train_generator,\n",
        "            initial_epoch=self.epoch,\n",
        "            epochs=epochs,\n",
        "            steps_per_epoch=self.config.STEPS_PER_EPOCH,\n",
        "            callbacks=callbacks,\n",
        "            validation_data=val_generator,\n",
        "            validation_steps=self.config.VALIDATION_STEPS,\n",
        "            max_queue_size=100,\n",
        "            workers=workers,\n",
        "            use_multiprocessing=True,\n",
        "        )\n",
        "        self.epoch = max(self.epoch, epochs)"
      ],
      "metadata": {
        "id": "-tzaMS9Yrio6"
      },
      "execution_count": 23,
      "outputs": []
    },
    {
      "cell_type": "code",
      "metadata": {
        "id": "j2jmfqdLSZIp",
        "colab": {
          "base_uri": "https://localhost:8080/"
        },
        "outputId": "183f7248-dcb1-41fd-d744-bb938430b97d"
      },
      "source": [
        "'''model.train(dataset_train, dataset_val,\n",
        "            learning_rate=config.LEARNING_RATE, \n",
        "            epochs=1, \n",
        "            layers='heads')'''\n",
        "model.train(dataset_train, dataset_val, \n",
        "            learning_rate=config.LEARNING_RATE / 10,\n",
        "            epochs=20, \n",
        "            layers=\"all\")"
      ],
      "execution_count": 33,
      "outputs": [
        {
          "output_type": "stream",
          "name": "stdout",
          "text": [
            "\n",
            "Starting at epoch 0. LR=0.0001\n",
            "\n",
            "Checkpoint Path: /content/logs/shapes20220123T1608/mask_rcnn_shapes_{epoch:04d}.h5\n",
            "Selecting layers to train\n",
            "conv1                  (Conv2D)\n",
            "bn_conv1               (BatchNorm)\n",
            "res2a_branch2a         (Conv2D)\n",
            "bn2a_branch2a          (BatchNorm)\n",
            "res2a_branch2b         (Conv2D)\n",
            "bn2a_branch2b          (BatchNorm)\n",
            "res2a_branch2c         (Conv2D)\n",
            "res2a_branch1          (Conv2D)\n",
            "bn2a_branch2c          (BatchNorm)\n",
            "bn2a_branch1           (BatchNorm)\n",
            "res2b_branch2a         (Conv2D)\n",
            "bn2b_branch2a          (BatchNorm)\n",
            "res2b_branch2b         (Conv2D)\n",
            "bn2b_branch2b          (BatchNorm)\n",
            "res2b_branch2c         (Conv2D)\n",
            "bn2b_branch2c          (BatchNorm)\n",
            "res2c_branch2a         (Conv2D)\n",
            "bn2c_branch2a          (BatchNorm)\n",
            "res2c_branch2b         (Conv2D)\n",
            "bn2c_branch2b          (BatchNorm)\n",
            "res2c_branch2c         (Conv2D)\n",
            "bn2c_branch2c          (BatchNorm)\n",
            "res3a_branch2a         (Conv2D)\n",
            "bn3a_branch2a          (BatchNorm)\n",
            "res3a_branch2b         (Conv2D)\n",
            "bn3a_branch2b          (BatchNorm)\n",
            "res3a_branch2c         (Conv2D)\n",
            "res3a_branch1          (Conv2D)\n",
            "bn3a_branch2c          (BatchNorm)\n",
            "bn3a_branch1           (BatchNorm)\n",
            "res3b_branch2a         (Conv2D)\n",
            "bn3b_branch2a          (BatchNorm)\n",
            "res3b_branch2b         (Conv2D)\n",
            "bn3b_branch2b          (BatchNorm)\n",
            "res3b_branch2c         (Conv2D)\n",
            "bn3b_branch2c          (BatchNorm)\n",
            "res3c_branch2a         (Conv2D)\n",
            "bn3c_branch2a          (BatchNorm)\n",
            "res3c_branch2b         (Conv2D)\n",
            "bn3c_branch2b          (BatchNorm)\n",
            "res3c_branch2c         (Conv2D)\n",
            "bn3c_branch2c          (BatchNorm)\n",
            "res3d_branch2a         (Conv2D)\n",
            "bn3d_branch2a          (BatchNorm)\n",
            "res3d_branch2b         (Conv2D)\n",
            "bn3d_branch2b          (BatchNorm)\n",
            "res3d_branch2c         (Conv2D)\n",
            "bn3d_branch2c          (BatchNorm)\n",
            "res4a_branch2a         (Conv2D)\n",
            "bn4a_branch2a          (BatchNorm)\n",
            "res4a_branch2b         (Conv2D)\n",
            "bn4a_branch2b          (BatchNorm)\n",
            "res4a_branch2c         (Conv2D)\n",
            "res4a_branch1          (Conv2D)\n",
            "bn4a_branch2c          (BatchNorm)\n",
            "bn4a_branch1           (BatchNorm)\n",
            "res4b_branch2a         (Conv2D)\n",
            "bn4b_branch2a          (BatchNorm)\n",
            "res4b_branch2b         (Conv2D)\n",
            "bn4b_branch2b          (BatchNorm)\n",
            "res4b_branch2c         (Conv2D)\n",
            "bn4b_branch2c          (BatchNorm)\n",
            "res4c_branch2a         (Conv2D)\n",
            "bn4c_branch2a          (BatchNorm)\n",
            "res4c_branch2b         (Conv2D)\n",
            "bn4c_branch2b          (BatchNorm)\n",
            "res4c_branch2c         (Conv2D)\n",
            "bn4c_branch2c          (BatchNorm)\n",
            "res4d_branch2a         (Conv2D)\n",
            "bn4d_branch2a          (BatchNorm)\n",
            "res4d_branch2b         (Conv2D)\n",
            "bn4d_branch2b          (BatchNorm)\n",
            "res4d_branch2c         (Conv2D)\n",
            "bn4d_branch2c          (BatchNorm)\n",
            "res4e_branch2a         (Conv2D)\n",
            "bn4e_branch2a          (BatchNorm)\n",
            "res4e_branch2b         (Conv2D)\n",
            "bn4e_branch2b          (BatchNorm)\n",
            "res4e_branch2c         (Conv2D)\n",
            "bn4e_branch2c          (BatchNorm)\n",
            "res4f_branch2a         (Conv2D)\n",
            "bn4f_branch2a          (BatchNorm)\n",
            "res4f_branch2b         (Conv2D)\n",
            "bn4f_branch2b          (BatchNorm)\n",
            "res4f_branch2c         (Conv2D)\n",
            "bn4f_branch2c          (BatchNorm)\n",
            "res4g_branch2a         (Conv2D)\n",
            "bn4g_branch2a          (BatchNorm)\n",
            "res4g_branch2b         (Conv2D)\n",
            "bn4g_branch2b          (BatchNorm)\n",
            "res4g_branch2c         (Conv2D)\n",
            "bn4g_branch2c          (BatchNorm)\n",
            "res4h_branch2a         (Conv2D)\n",
            "bn4h_branch2a          (BatchNorm)\n",
            "res4h_branch2b         (Conv2D)\n",
            "bn4h_branch2b          (BatchNorm)\n",
            "res4h_branch2c         (Conv2D)\n",
            "bn4h_branch2c          (BatchNorm)\n",
            "res4i_branch2a         (Conv2D)\n",
            "bn4i_branch2a          (BatchNorm)\n",
            "res4i_branch2b         (Conv2D)\n",
            "bn4i_branch2b          (BatchNorm)\n",
            "res4i_branch2c         (Conv2D)\n",
            "bn4i_branch2c          (BatchNorm)\n",
            "res4j_branch2a         (Conv2D)\n",
            "bn4j_branch2a          (BatchNorm)\n",
            "res4j_branch2b         (Conv2D)\n",
            "bn4j_branch2b          (BatchNorm)\n",
            "res4j_branch2c         (Conv2D)\n",
            "bn4j_branch2c          (BatchNorm)\n",
            "res4k_branch2a         (Conv2D)\n",
            "bn4k_branch2a          (BatchNorm)\n",
            "res4k_branch2b         (Conv2D)\n",
            "bn4k_branch2b          (BatchNorm)\n",
            "res4k_branch2c         (Conv2D)\n",
            "bn4k_branch2c          (BatchNorm)\n",
            "res4l_branch2a         (Conv2D)\n",
            "bn4l_branch2a          (BatchNorm)\n",
            "res4l_branch2b         (Conv2D)\n",
            "bn4l_branch2b          (BatchNorm)\n",
            "res4l_branch2c         (Conv2D)\n",
            "bn4l_branch2c          (BatchNorm)\n",
            "res4m_branch2a         (Conv2D)\n",
            "bn4m_branch2a          (BatchNorm)\n",
            "res4m_branch2b         (Conv2D)\n",
            "bn4m_branch2b          (BatchNorm)\n",
            "res4m_branch2c         (Conv2D)\n",
            "bn4m_branch2c          (BatchNorm)\n",
            "res4n_branch2a         (Conv2D)\n",
            "bn4n_branch2a          (BatchNorm)\n",
            "res4n_branch2b         (Conv2D)\n",
            "bn4n_branch2b          (BatchNorm)\n",
            "res4n_branch2c         (Conv2D)\n",
            "bn4n_branch2c          (BatchNorm)\n",
            "res4o_branch2a         (Conv2D)\n",
            "bn4o_branch2a          (BatchNorm)\n",
            "res4o_branch2b         (Conv2D)\n",
            "bn4o_branch2b          (BatchNorm)\n",
            "res4o_branch2c         (Conv2D)\n",
            "bn4o_branch2c          (BatchNorm)\n",
            "res4p_branch2a         (Conv2D)\n",
            "bn4p_branch2a          (BatchNorm)\n",
            "res4p_branch2b         (Conv2D)\n",
            "bn4p_branch2b          (BatchNorm)\n",
            "res4p_branch2c         (Conv2D)\n",
            "bn4p_branch2c          (BatchNorm)\n",
            "res4q_branch2a         (Conv2D)\n",
            "bn4q_branch2a          (BatchNorm)\n",
            "res4q_branch2b         (Conv2D)\n",
            "bn4q_branch2b          (BatchNorm)\n",
            "res4q_branch2c         (Conv2D)\n",
            "bn4q_branch2c          (BatchNorm)\n",
            "res4r_branch2a         (Conv2D)\n",
            "bn4r_branch2a          (BatchNorm)\n",
            "res4r_branch2b         (Conv2D)\n",
            "bn4r_branch2b          (BatchNorm)\n",
            "res4r_branch2c         (Conv2D)\n",
            "bn4r_branch2c          (BatchNorm)\n",
            "res4s_branch2a         (Conv2D)\n",
            "bn4s_branch2a          (BatchNorm)\n",
            "res4s_branch2b         (Conv2D)\n",
            "bn4s_branch2b          (BatchNorm)\n",
            "res4s_branch2c         (Conv2D)\n",
            "bn4s_branch2c          (BatchNorm)\n",
            "res4t_branch2a         (Conv2D)\n",
            "bn4t_branch2a          (BatchNorm)\n",
            "res4t_branch2b         (Conv2D)\n",
            "bn4t_branch2b          (BatchNorm)\n",
            "res4t_branch2c         (Conv2D)\n",
            "bn4t_branch2c          (BatchNorm)\n",
            "res4u_branch2a         (Conv2D)\n",
            "bn4u_branch2a          (BatchNorm)\n",
            "res4u_branch2b         (Conv2D)\n",
            "bn4u_branch2b          (BatchNorm)\n",
            "res4u_branch2c         (Conv2D)\n",
            "bn4u_branch2c          (BatchNorm)\n",
            "res4v_branch2a         (Conv2D)\n",
            "bn4v_branch2a          (BatchNorm)\n",
            "res4v_branch2b         (Conv2D)\n",
            "bn4v_branch2b          (BatchNorm)\n",
            "res4v_branch2c         (Conv2D)\n",
            "bn4v_branch2c          (BatchNorm)\n",
            "res4w_branch2a         (Conv2D)\n",
            "bn4w_branch2a          (BatchNorm)\n",
            "res4w_branch2b         (Conv2D)\n",
            "bn4w_branch2b          (BatchNorm)\n",
            "res4w_branch2c         (Conv2D)\n",
            "bn4w_branch2c          (BatchNorm)\n",
            "res5a_branch2a         (Conv2D)\n",
            "bn5a_branch2a          (BatchNorm)\n",
            "res5a_branch2b         (Conv2D)\n",
            "bn5a_branch2b          (BatchNorm)\n",
            "res5a_branch2c         (Conv2D)\n",
            "res5a_branch1          (Conv2D)\n",
            "bn5a_branch2c          (BatchNorm)\n",
            "bn5a_branch1           (BatchNorm)\n",
            "res5b_branch2a         (Conv2D)\n",
            "bn5b_branch2a          (BatchNorm)\n",
            "res5b_branch2b         (Conv2D)\n",
            "bn5b_branch2b          (BatchNorm)\n",
            "res5b_branch2c         (Conv2D)\n",
            "bn5b_branch2c          (BatchNorm)\n",
            "res5c_branch2a         (Conv2D)\n",
            "bn5c_branch2a          (BatchNorm)\n",
            "res5c_branch2b         (Conv2D)\n",
            "bn5c_branch2b          (BatchNorm)\n",
            "res5c_branch2c         (Conv2D)\n",
            "bn5c_branch2c          (BatchNorm)\n",
            "fpn_c5p5               (Conv2D)\n",
            "fpn_c4p4               (Conv2D)\n",
            "fpn_c3p3               (Conv2D)\n",
            "fpn_c2p2               (Conv2D)\n",
            "fpn_p5                 (Conv2D)\n",
            "fpn_p2                 (Conv2D)\n",
            "fpn_p3                 (Conv2D)\n",
            "fpn_p4                 (Conv2D)\n",
            "In model:  rpn_model\n",
            "    rpn_conv_shared        (Conv2D)\n",
            "    rpn_class_raw          (Conv2D)\n",
            "    rpn_bbox_pred          (Conv2D)\n",
            "mrcnn_mask_conv1       (TimeDistributed)\n",
            "mrcnn_mask_bn1         (TimeDistributed)\n",
            "mrcnn_mask_conv2       (TimeDistributed)\n",
            "mrcnn_mask_bn2         (TimeDistributed)\n",
            "mrcnn_class_conv1      (TimeDistributed)\n",
            "mrcnn_class_bn1        (TimeDistributed)\n",
            "mrcnn_mask_conv3       (TimeDistributed)\n",
            "mrcnn_mask_bn3         (TimeDistributed)\n",
            "mrcnn_class_conv2      (TimeDistributed)\n",
            "mrcnn_class_bn2        (TimeDistributed)\n",
            "mrcnn_mask_conv4       (TimeDistributed)\n",
            "mrcnn_mask_bn4         (TimeDistributed)\n",
            "mrcnn_bbox_fc          (TimeDistributed)\n",
            "mrcnn_mask_deconv      (TimeDistributed)\n",
            "mrcnn_class_logits     (TimeDistributed)\n",
            "mrcnn_mask             (TimeDistributed)\n",
            "WARNING:tensorflow:From /usr/local/lib/python3.7/dist-packages/keras/optimizers.py:711: The name tf.train.Optimizer is deprecated. Please use tf.compat.v1.train.Optimizer instead.\n",
            "\n"
          ]
        },
        {
          "output_type": "stream",
          "name": "stderr",
          "text": [
            "/tensorflow-1.15.2/python3.7/tensorflow_core/python/framework/indexed_slices.py:424: UserWarning: Converting sparse IndexedSlices to a dense Tensor of unknown shape. This may consume a large amount of memory.\n",
            "  \"Converting sparse IndexedSlices to a dense Tensor of unknown shape. \"\n",
            "/tensorflow-1.15.2/python3.7/tensorflow_core/python/framework/indexed_slices.py:424: UserWarning: Converting sparse IndexedSlices to a dense Tensor of unknown shape. This may consume a large amount of memory.\n",
            "  \"Converting sparse IndexedSlices to a dense Tensor of unknown shape. \"\n",
            "/tensorflow-1.15.2/python3.7/tensorflow_core/python/framework/indexed_slices.py:424: UserWarning: Converting sparse IndexedSlices to a dense Tensor of unknown shape. This may consume a large amount of memory.\n",
            "  \"Converting sparse IndexedSlices to a dense Tensor of unknown shape. \"\n"
          ]
        },
        {
          "output_type": "stream",
          "name": "stdout",
          "text": [
            "WARNING:tensorflow:From /usr/local/lib/python3.7/dist-packages/keras/backend/tensorflow_backend.py:953: The name tf.assign_add is deprecated. Please use tf.compat.v1.assign_add instead.\n",
            "\n",
            "WARNING:tensorflow:From /usr/local/lib/python3.7/dist-packages/keras/backend/tensorflow_backend.py:675: calling Constant.__init__ (from tensorflow.python.ops.init_ops) with dtype is deprecated and will be removed in a future version.\n",
            "Instructions for updating:\n",
            "Call initializer instance with the dtype argument instead of passing it to the constructor\n",
            "WARNING:tensorflow:From /usr/local/lib/python3.7/dist-packages/keras/backend/tensorflow_backend.py:940: The name tf.assign is deprecated. Please use tf.compat.v1.assign instead.\n",
            "\n",
            "WARNING:tensorflow:From /usr/local/lib/python3.7/dist-packages/keras/callbacks.py:705: The name tf.summary.merge_all is deprecated. Please use tf.compat.v1.summary.merge_all instead.\n",
            "\n",
            "WARNING:tensorflow:From /usr/local/lib/python3.7/dist-packages/keras/callbacks.py:708: The name tf.summary.FileWriter is deprecated. Please use tf.compat.v1.summary.FileWriter instead.\n",
            "\n"
          ]
        },
        {
          "output_type": "stream",
          "name": "stderr",
          "text": [
            "/usr/local/lib/python3.7/dist-packages/keras/engine/training.py:2039: UserWarning: Using a generator with `use_multiprocessing=True` and multiple workers may duplicate your data. Please consider using the`keras.utils.Sequence class.\n",
            "  UserWarning('Using a generator with `use_multiprocessing=True`'\n"
          ]
        },
        {
          "output_type": "stream",
          "name": "stdout",
          "text": [
            "Epoch 1/20\n",
            "199/200 [============================>.] - ETA: 2s - loss: 2.6094 - rpn_class_loss: 0.3598 - rpn_bbox_loss: 0.9717 - mrcnn_class_loss: 0.1920 - mrcnn_bbox_loss: 0.5410 - mrcnn_mask_loss: 0.5450"
          ]
        },
        {
          "output_type": "stream",
          "name": "stderr",
          "text": [
            "/usr/local/lib/python3.7/dist-packages/keras/engine/training.py:2197: UserWarning: Using a generator with `use_multiprocessing=True` and multiple workers may duplicate your data. Please consider using the`keras.utils.Sequence class.\n",
            "  UserWarning('Using a generator with `use_multiprocessing=True`'\n"
          ]
        },
        {
          "output_type": "stream",
          "name": "stdout",
          "text": [
            "WARNING:tensorflow:From /usr/local/lib/python3.7/dist-packages/keras/callbacks.py:791: The name tf.Summary is deprecated. Please use tf.compat.v1.Summary instead.\n",
            "\n",
            "200/200 [==============================] - 975s 5s/step - loss: 2.6029 - rpn_class_loss: 0.3583 - rpn_bbox_loss: 0.9703 - mrcnn_class_loss: 0.1917 - mrcnn_bbox_loss: 0.5391 - mrcnn_mask_loss: 0.5434 - val_loss: 1.5268 - val_rpn_class_loss: 0.1136 - val_rpn_bbox_loss: 0.7187 - val_mrcnn_class_loss: 0.1485 - val_mrcnn_bbox_loss: 0.2383 - val_mrcnn_mask_loss: 0.3077\n",
            "Epoch 2/20\n",
            "200/200 [==============================] - 529s 3s/step - loss: 1.3642 - rpn_class_loss: 0.1001 - rpn_bbox_loss: 0.6570 - mrcnn_class_loss: 0.1510 - mrcnn_bbox_loss: 0.2073 - mrcnn_mask_loss: 0.2487 - val_loss: 1.1788 - val_rpn_class_loss: 0.0610 - val_rpn_bbox_loss: 0.5366 - val_mrcnn_class_loss: 0.1622 - val_mrcnn_bbox_loss: 0.1897 - val_mrcnn_mask_loss: 0.2294\n",
            "Epoch 3/20\n",
            "200/200 [==============================] - 657s 3s/step - loss: 1.2110 - rpn_class_loss: 0.0945 - rpn_bbox_loss: 0.5400 - mrcnn_class_loss: 0.1699 - mrcnn_bbox_loss: 0.1864 - mrcnn_mask_loss: 0.2201 - val_loss: 1.1666 - val_rpn_class_loss: 0.0847 - val_rpn_bbox_loss: 0.4772 - val_mrcnn_class_loss: 0.1878 - val_mrcnn_bbox_loss: 0.1844 - val_mrcnn_mask_loss: 0.2325\n",
            "Epoch 4/20\n",
            "200/200 [==============================] - 658s 3s/step - loss: 1.1071 - rpn_class_loss: 0.0704 - rpn_bbox_loss: 0.4406 - mrcnn_class_loss: 0.1876 - mrcnn_bbox_loss: 0.1837 - mrcnn_mask_loss: 0.2247 - val_loss: 0.9866 - val_rpn_class_loss: 0.0601 - val_rpn_bbox_loss: 0.3712 - val_mrcnn_class_loss: 0.1871 - val_mrcnn_bbox_loss: 0.1595 - val_mrcnn_mask_loss: 0.2087\n",
            "Epoch 5/20\n",
            "200/200 [==============================] - 622s 3s/step - loss: 1.0534 - rpn_class_loss: 0.0601 - rpn_bbox_loss: 0.4252 - mrcnn_class_loss: 0.1963 - mrcnn_bbox_loss: 0.1610 - mrcnn_mask_loss: 0.2110 - val_loss: 1.0318 - val_rpn_class_loss: 0.0633 - val_rpn_bbox_loss: 0.3829 - val_mrcnn_class_loss: 0.1956 - val_mrcnn_bbox_loss: 0.1674 - val_mrcnn_mask_loss: 0.2225\n",
            "Epoch 6/20\n",
            "200/200 [==============================] - 626s 3s/step - loss: 1.0029 - rpn_class_loss: 0.0601 - rpn_bbox_loss: 0.3868 - mrcnn_class_loss: 0.1981 - mrcnn_bbox_loss: 0.1547 - mrcnn_mask_loss: 0.2031 - val_loss: 1.0429 - val_rpn_class_loss: 0.0450 - val_rpn_bbox_loss: 0.3679 - val_mrcnn_class_loss: 0.2144 - val_mrcnn_bbox_loss: 0.1695 - val_mrcnn_mask_loss: 0.2462\n",
            "Epoch 7/20\n",
            "200/200 [==============================] - 683s 3s/step - loss: 0.9961 - rpn_class_loss: 0.0493 - rpn_bbox_loss: 0.4099 - mrcnn_class_loss: 0.1884 - mrcnn_bbox_loss: 0.1482 - mrcnn_mask_loss: 0.2004 - val_loss: 1.0458 - val_rpn_class_loss: 0.0615 - val_rpn_bbox_loss: 0.3803 - val_mrcnn_class_loss: 0.2013 - val_mrcnn_bbox_loss: 0.1726 - val_mrcnn_mask_loss: 0.2302\n",
            "Epoch 8/20\n",
            "200/200 [==============================] - 703s 4s/step - loss: 0.9172 - rpn_class_loss: 0.0460 - rpn_bbox_loss: 0.3338 - mrcnn_class_loss: 0.1896 - mrcnn_bbox_loss: 0.1454 - mrcnn_mask_loss: 0.2023 - val_loss: 0.9486 - val_rpn_class_loss: 0.0553 - val_rpn_bbox_loss: 0.3114 - val_mrcnn_class_loss: 0.2069 - val_mrcnn_bbox_loss: 0.1498 - val_mrcnn_mask_loss: 0.2252\n",
            "Epoch 9/20\n",
            "200/200 [==============================] - 674s 3s/step - loss: 0.9737 - rpn_class_loss: 0.0542 - rpn_bbox_loss: 0.3644 - mrcnn_class_loss: 0.1954 - mrcnn_bbox_loss: 0.1544 - mrcnn_mask_loss: 0.2052 - val_loss: 0.9331 - val_rpn_class_loss: 0.0373 - val_rpn_bbox_loss: 0.3520 - val_mrcnn_class_loss: 0.1853 - val_mrcnn_bbox_loss: 0.1458 - val_mrcnn_mask_loss: 0.2127\n",
            "Epoch 10/20\n",
            "200/200 [==============================] - 659s 3s/step - loss: 0.8358 - rpn_class_loss: 0.0336 - rpn_bbox_loss: 0.3022 - mrcnn_class_loss: 0.1738 - mrcnn_bbox_loss: 0.1339 - mrcnn_mask_loss: 0.1923 - val_loss: 0.9542 - val_rpn_class_loss: 0.0685 - val_rpn_bbox_loss: 0.3207 - val_mrcnn_class_loss: 0.1919 - val_mrcnn_bbox_loss: 0.1532 - val_mrcnn_mask_loss: 0.2200\n",
            "Epoch 11/20\n",
            "200/200 [==============================] - 618s 3s/step - loss: 0.9046 - rpn_class_loss: 0.0468 - rpn_bbox_loss: 0.3346 - mrcnn_class_loss: 0.1767 - mrcnn_bbox_loss: 0.1455 - mrcnn_mask_loss: 0.2009 - val_loss: 0.8806 - val_rpn_class_loss: 0.0399 - val_rpn_bbox_loss: 0.2908 - val_mrcnn_class_loss: 0.2006 - val_mrcnn_bbox_loss: 0.1336 - val_mrcnn_mask_loss: 0.2157\n",
            "Epoch 12/20\n",
            "200/200 [==============================] - 742s 4s/step - loss: 0.9008 - rpn_class_loss: 0.0455 - rpn_bbox_loss: 0.3081 - mrcnn_class_loss: 0.1990 - mrcnn_bbox_loss: 0.1432 - mrcnn_mask_loss: 0.2050 - val_loss: 0.9822 - val_rpn_class_loss: 0.0398 - val_rpn_bbox_loss: 0.3424 - val_mrcnn_class_loss: 0.2061 - val_mrcnn_bbox_loss: 0.1595 - val_mrcnn_mask_loss: 0.2345\n",
            "Epoch 13/20\n",
            "200/200 [==============================] - 650s 3s/step - loss: 0.8795 - rpn_class_loss: 0.0373 - rpn_bbox_loss: 0.3161 - mrcnn_class_loss: 0.1843 - mrcnn_bbox_loss: 0.1378 - mrcnn_mask_loss: 0.2040 - val_loss: 0.8445 - val_rpn_class_loss: 0.0338 - val_rpn_bbox_loss: 0.2701 - val_mrcnn_class_loss: 0.1790 - val_mrcnn_bbox_loss: 0.1409 - val_mrcnn_mask_loss: 0.2207\n",
            "Epoch 14/20\n",
            "200/200 [==============================] - 567s 3s/step - loss: 0.8121 - rpn_class_loss: 0.0322 - rpn_bbox_loss: 0.2790 - mrcnn_class_loss: 0.1734 - mrcnn_bbox_loss: 0.1312 - mrcnn_mask_loss: 0.1963 - val_loss: 0.9189 - val_rpn_class_loss: 0.0348 - val_rpn_bbox_loss: 0.3079 - val_mrcnn_class_loss: 0.1975 - val_mrcnn_bbox_loss: 0.1535 - val_mrcnn_mask_loss: 0.2251\n",
            "Epoch 15/20\n",
            "200/200 [==============================] - 631s 3s/step - loss: 0.8304 - rpn_class_loss: 0.0347 - rpn_bbox_loss: 0.2934 - mrcnn_class_loss: 0.1791 - mrcnn_bbox_loss: 0.1286 - mrcnn_mask_loss: 0.1946 - val_loss: 0.8254 - val_rpn_class_loss: 0.0347 - val_rpn_bbox_loss: 0.2599 - val_mrcnn_class_loss: 0.1770 - val_mrcnn_bbox_loss: 0.1483 - val_mrcnn_mask_loss: 0.2056\n",
            "Epoch 16/20\n",
            "200/200 [==============================] - 782s 4s/step - loss: 0.8276 - rpn_class_loss: 0.0371 - rpn_bbox_loss: 0.2778 - mrcnn_class_loss: 0.1785 - mrcnn_bbox_loss: 0.1332 - mrcnn_mask_loss: 0.2010 - val_loss: 0.8962 - val_rpn_class_loss: 0.0429 - val_rpn_bbox_loss: 0.3215 - val_mrcnn_class_loss: 0.1890 - val_mrcnn_bbox_loss: 0.1387 - val_mrcnn_mask_loss: 0.2040\n",
            "Epoch 17/20\n",
            "200/200 [==============================] - 742s 4s/step - loss: 0.8080 - rpn_class_loss: 0.0333 - rpn_bbox_loss: 0.2713 - mrcnn_class_loss: 0.1809 - mrcnn_bbox_loss: 0.1289 - mrcnn_mask_loss: 0.1937 - val_loss: 0.9172 - val_rpn_class_loss: 0.0346 - val_rpn_bbox_loss: 0.3081 - val_mrcnn_class_loss: 0.1978 - val_mrcnn_bbox_loss: 0.1495 - val_mrcnn_mask_loss: 0.2271\n",
            "Epoch 18/20\n",
            "200/200 [==============================] - 622s 3s/step - loss: 0.7563 - rpn_class_loss: 0.0306 - rpn_bbox_loss: 0.2470 - mrcnn_class_loss: 0.1665 - mrcnn_bbox_loss: 0.1198 - mrcnn_mask_loss: 0.1925 - val_loss: 0.7987 - val_rpn_class_loss: 0.0300 - val_rpn_bbox_loss: 0.2479 - val_mrcnn_class_loss: 0.1681 - val_mrcnn_bbox_loss: 0.1376 - val_mrcnn_mask_loss: 0.2151\n",
            "Epoch 19/20\n",
            "200/200 [==============================] - 626s 3s/step - loss: 0.8416 - rpn_class_loss: 0.0394 - rpn_bbox_loss: 0.2975 - mrcnn_class_loss: 0.1707 - mrcnn_bbox_loss: 0.1318 - mrcnn_mask_loss: 0.2021 - val_loss: 0.8394 - val_rpn_class_loss: 0.0301 - val_rpn_bbox_loss: 0.2652 - val_mrcnn_class_loss: 0.1900 - val_mrcnn_bbox_loss: 0.1435 - val_mrcnn_mask_loss: 0.2106\n",
            "Epoch 20/20\n",
            "200/200 [==============================] - 573s 3s/step - loss: 0.8299 - rpn_class_loss: 0.0320 - rpn_bbox_loss: 0.2664 - mrcnn_class_loss: 0.1872 - mrcnn_bbox_loss: 0.1343 - mrcnn_mask_loss: 0.2100 - val_loss: 0.7541 - val_rpn_class_loss: 0.0255 - val_rpn_bbox_loss: 0.2594 - val_mrcnn_class_loss: 0.1405 - val_mrcnn_bbox_loss: 0.1264 - val_mrcnn_mask_loss: 0.2023\n"
          ]
        }
      ]
    },
    {
      "cell_type": "markdown",
      "source": [
        "## Save weights"
      ],
      "metadata": {
        "id": "LazvOfAAJEMW"
      }
    },
    {
      "cell_type": "code",
      "source": [
        "# Load the TensorBoard notebook extension.\n",
        "%load_ext tensorboard\n",
        "%tensorboard --logdir logs"
      ],
      "metadata": {
        "id": "dxOvUEn7WbY2"
      },
      "execution_count": null,
      "outputs": []
    },
    {
      "cell_type": "code",
      "metadata": {
        "id": "HRK53lnTSZIx"
      },
      "source": [
        "model_path = os.path.join(MODEL_DIR, \"mask_rcnn_shapes4.h5\")\n",
        "model.keras_model.save_weights(model_path)"
      ],
      "execution_count": 34,
      "outputs": []
    },
    {
      "cell_type": "code",
      "source": [
        "import plotly.graph_objects as go\n",
        "\n",
        "# Add data\n",
        "'''\n",
        "month = ['1', '2', '3', '4', '5', '6', '7', '8', '9', '10'\n",
        "         '11', '12', '13', '14', '15', '16', '17', '18', '19', '20']\n",
        "loss =\n",
        "rpn_class_loss = \n",
        "rpn_bbox_loss = \n",
        "mrcnn_class_loss = \n",
        "mrcnn_bbox_loss = \n",
        "mrcnn_mask_loss = \n",
        "val_loss\n",
        "val_rpn_class_loss\n",
        "val_rpn_bbox_loss\n",
        "val_mrcnn_class_loss\n",
        "val_mrcnn_bbox_loss\n",
        "val_mrcnn_mask_loss\n",
        "fig = go.Figure()\n",
        "# Create and style traces\n",
        "fig.add_trace(go.Scatter(x=month, y=high_2014, name='High 2014',\n",
        "                         line=dict(color='firebrick', width=4)))\n",
        "fig.add_trace(go.Scatter(x=month, y=low_2014, name = 'Low 2014',\n",
        "                         line=dict(color='royalblue', width=4)))\n",
        "fig.add_trace(go.Scatter(x=month, y=high_2007, name='High 2007',\n",
        "                         line=dict(color='firebrick', width=4,\n",
        "                              dash='dash') # dash options include 'dash', 'dot', and 'dashdot'\n",
        "))\n",
        "fig.add_trace(go.Scatter(x=month, y=low_2007, name='Low 2007',\n",
        "                         line = dict(color='royalblue', width=4, dash='dash')))\n",
        "fig.add_trace(go.Scatter(x=month, y=high_2000, name='High 2000',\n",
        "                         line = dict(color='firebrick', width=4, dash='dot')))\n",
        "fig.add_trace(go.Scatter(x=month, y=low_2000, name='Low 2000',\n",
        "                         line=dict(color='royalblue', width=4, dash='dot')))\n",
        "\n",
        "# Edit the layout\n",
        "fig.update_layout(title='Average High and Low Temperatures in New York',\n",
        "                   xaxis_title='Month',\n",
        "                   yaxis_title='Temperature (degrees F)')\n",
        "\n",
        "\n",
        "fig.show()\n",
        "'''"
      ],
      "metadata": {
        "id": "JeQwFJKpPh5k"
      },
      "execution_count": null,
      "outputs": []
    },
    {
      "cell_type": "markdown",
      "metadata": {
        "id": "ldulTQXRSZI0"
      },
      "source": [
        "# Detection\n",
        "Analyzing the correctness of Mask-RCNN algorithm."
      ]
    },
    {
      "cell_type": "code",
      "source": [
        "    def detect(self, images, verbose=0):\n",
        "        assert self.mode == \"inference\", \"Create model in inference mode.\"\n",
        "        assert len(\n",
        "            images) == self.config.BATCH_SIZE, \"len(images) must be equal to BATCH_SIZE\"\n",
        "\n",
        "        if verbose:\n",
        "            log(\"Processing {} images\".format(len(images)))\n",
        "            for image in images:\n",
        "                log(\"image\", image)\n",
        "\n",
        "        # Mold inputs to format expected by the neural network\n",
        "        molded_images, image_metas, windows = self.mold_inputs(images)\n",
        "\n",
        "        # Validate image sizes\n",
        "        # All images in a batch MUST be of the same size\n",
        "        image_shape = molded_images[0].shape\n",
        "        for g in molded_images[1:]:\n",
        "            assert g.shape == image_shape,\\\n",
        "                \"After resizing, all images must have the same size. Check IMAGE_RESIZE_MODE and image sizes.\"\n",
        "\n",
        "        # Anchors\n",
        "        anchors = self.get_anchors(image_shape)\n",
        "        # Duplicate across the batch dimension because Keras requires it\n",
        "        # TODO: can this be optimized to avoid duplicating the anchors?\n",
        "        anchors = np.broadcast_to(anchors, (self.config.BATCH_SIZE,) + anchors.shape)\n",
        "\n",
        "        if verbose:\n",
        "            log(\"molded_images\", molded_images)\n",
        "            log(\"image_metas\", image_metas)\n",
        "            log(\"anchors\", anchors)\n",
        "        # Run object detection\n",
        "        detections, _, _, mrcnn_mask, _, _, _ =\\\n",
        "            self.keras_model.predict([molded_images, image_metas, anchors], verbose=0)\n",
        "        # Process detections\n",
        "        results = []\n",
        "        for i, image in enumerate(images):\n",
        "            final_rois, final_class_ids, final_scores, final_masks =\\\n",
        "                self.unmold_detections(detections[i], mrcnn_mask[i],\n",
        "                                       image.shape, molded_images[i].shape,\n",
        "                                       windows[i])\n",
        "            results.append({\n",
        "                \"rois\": final_rois,\n",
        "                \"class_ids\": final_class_ids,\n",
        "                \"scores\": final_scores,\n",
        "                \"masks\": final_masks,\n",
        "            })\n",
        "        return results"
      ],
      "metadata": {
        "id": "J4Aee7SUsAyk"
      },
      "execution_count": 24,
      "outputs": []
    },
    {
      "cell_type": "code",
      "metadata": {
        "id": "LWhUidKESZI1"
      },
      "source": [
        "class InferenceConfig(ShapesConfig):\n",
        "    GPU_COUNT = 1\n",
        "    IMAGES_PER_GPU = 1\n",
        "\n",
        "inference_config = InferenceConfig()\n",
        "\n",
        "# Recreate the model in inference mode\n",
        "model = modellib.MaskRCNN(mode=\"inference\", \n",
        "                          config=inference_config,\n",
        "                          model_dir=MODEL_DIR)\n",
        "\n",
        "# Get path to saved weights\n",
        "# Either set a specific path or find last trained weights\n",
        "model_path = os.path.join(MODEL_DIR, \"mask_rcnn_shapes4.h5\")\n",
        "#model_path = model.find_last()[1]\n",
        "\n",
        "# Load trained weights (fill in path to trained weights here)\n",
        "assert model_path != \"\", \"Provide path to trained weights\"\n",
        "print(\"Loading weights from \", model_path)\n",
        "model.load_weights(model_path, by_name=True)"
      ],
      "execution_count": null,
      "outputs": []
    },
    {
      "cell_type": "code",
      "metadata": {
        "id": "Y-aJVKAhSZI3",
        "colab": {
          "base_uri": "https://localhost:8080/",
          "height": 555
        },
        "outputId": "667bafe8-2042-437a-b394-6a973d753028"
      },
      "source": [
        "# Test on a random image\n",
        "image_id = 2 #random.choice(dataset_val.image_ids)\n",
        "original_image, image_meta, gt_class_id, gt_bbox, gt_mask =\\\n",
        "    modellib.load_image_gt(dataset_val, inference_config, \n",
        "                           image_id, use_mini_mask=False)\n",
        "\n",
        "log(\"original_image\", original_image)\n",
        "log(\"image_meta\", image_meta)\n",
        "log(\"gt_class_id\", gt_class_id)\n",
        "log(\"gt_bbox\", gt_bbox)\n",
        "log(\"gt_mask\", gt_mask)\n",
        "\n",
        "visualize.display_instances(original_image, gt_bbox, gt_mask, gt_class_id, \n",
        "                            dataset_train.class_names, figsize=(8, 8))"
      ],
      "execution_count": 40,
      "outputs": [
        {
          "output_type": "stream",
          "name": "stdout",
          "text": [
            "original_image           shape: (896, 896, 3)         min:    1.00000  max:   94.87755  float64\n",
            "image_meta               shape: (14,)                 min:    0.00000  max:  896.00000  int64\n",
            "gt_class_id              shape: (8,)                  min:    1.00000  max:    1.00000  int32\n",
            "gt_bbox                  shape: (8, 4)                min:   54.00000  max:  896.00000  int32\n",
            "gt_mask                  shape: (896, 896, 8)         min:    0.00000  max:  255.00000  uint8\n"
          ]
        },
        {
          "output_type": "display_data",
          "data": {
            "image/png": "[encoded data removed]",
            "text/plain": [
              "<Figure size 576x576 with 1 Axes>"
            ]
          },
          "metadata": {
            "needs_background": "light"
          }
        }
      ]
    },
    {
      "cell_type": "code",
      "metadata": {
        "id": "ZyAT1glESZI7",
        "colab": {
          "base_uri": "https://localhost:8080/",
          "height": 989
        },
        "outputId": "333ddd40-5d7f-453d-b2b2-a827c8565423"
      },
      "source": [
        "results = model.detect([original_image], verbose=1)\n",
        "\n",
        "r = results[0]\n",
        "visualize.display_instances(original_image, r['rois'], r['masks'], r['class_ids'], \n",
        "                            dataset_val.class_names, r['scores'])"
      ],
      "execution_count": 41,
      "outputs": [
        {
          "output_type": "stream",
          "name": "stdout",
          "text": [
            "Processing 1 images\n",
            "image                    shape: (896, 896, 3)         min:    1.00000  max:   94.87755  float64\n",
            "molded_images            shape: (1, 896, 896, 3)      min: -122.70000  max:   -9.02245  float64\n",
            "image_metas              shape: (1, 14)               min:    0.00000  max:  896.00000  int64\n",
            "anchors                  shape: (1, 200508, 4)        min:   -0.20226  max:    1.13075  float32\n"
          ]
        },
        {
          "output_type": "display_data",
          "data": {
            "image/png": "[encoded data removed]",
            "text/plain": [
              "<Figure size 1152x1152 with 1 Axes>"
            ]
          },
          "metadata": {
            "needs_background": "light"
          }
        }
      ]
    },
    {
      "cell_type": "markdown",
      "metadata": {
        "id": "i8mN9BsDSZI-"
      },
      "source": [
        "# Evaluation\n",
        "Testing our test-set so as to evaluate algorithm's truthness."
      ]
    },
    {
      "cell_type": "code",
      "metadata": {
        "id": "Ib5pJXg3SZJA",
        "colab": {
          "base_uri": "https://localhost:8080/"
        },
        "outputId": "a93de375-5e06-4ab6-9471-d3a7075edf2d"
      },
      "source": [
        "# Compute VOC-Style mAP @ IoU=0.5\n",
        "# Running on 30 images. Increase for better accuracy.\n",
        "image_ids = np.random.choice(dataset_val.image_ids, 30)\n",
        "APs = []\n",
        "for image_id in image_ids:\n",
        "    # Load image and ground truth data\n",
        "    image, image_meta, gt_class_id, gt_bbox, gt_mask =\\\n",
        "        modellib.load_image_gt(dataset_val, inference_config,\n",
        "                               image_id, use_mini_mask=False)\n",
        "    molded_images = np.expand_dims(modellib.mold_image(image, inference_config), 0)\n",
        "    # Run object detection\n",
        "    results = model.detect([image], verbose=0)\n",
        "    r = results[0]\n",
        "    # Compute AP\n",
        "    AP, precisions, recalls, overlaps =\\\n",
        "        utils.compute_ap(gt_bbox, gt_class_id, gt_mask,\n",
        "                         r[\"rois\"], r[\"class_ids\"], r[\"scores\"], r['masks'])\n",
        "    APs.append(AP)\n",
        "    \n",
        "print(\"mAP: \", np.mean(APs))"
      ],
      "execution_count": 42,
      "outputs": [
        {
          "output_type": "stream",
          "name": "stdout",
          "text": [
            "mAP:  0.8526419680727606\n"
          ]
        }
      ]
    },
    {
      "cell_type": "code",
      "metadata": {
        "id": "OMsT8341JwgU"
      },
      "source": [
        "\n",
        "X_test = np.zeros((len(test_ids), config.IMAGE_SHAPE[0], config.IMAGE_SHAPE[1], 3), dtype=np.uint8)\n",
        "sizes_test = []\n",
        "_test_ids = []\n",
        "\n",
        "print('Getting and resizing test images ... ')\n",
        "#sys.stdout.flush()\n",
        "for n, id_ in enumerate(test_ids):\n",
        "    _test_ids.append([id_])\n",
        "    path = TEST_PATH + '1'\n",
        "    img = imread(path + '/images/' + 'F1_1' + '.png')[:,:,:3]\n",
        "    sizes_test.append([img.shape[0], img.shape[1]])\n",
        "    img = resize(img, (config.IMAGE_SHAPE[0], config.IMAGE_SHAPE[1]), mode='constant', preserve_range=True)\n",
        "    X_test[n] = img"
      ],
      "execution_count": null,
      "outputs": []
    },
    {
      "cell_type": "code",
      "metadata": {
        "id": "6oyfiLFaSZJC"
      },
      "source": [
        "print(\"checking a test image with masks ...\")\n",
        "results = model.detect([X_test[1]], verbose=1)\n",
        "\n",
        "r = results[0]\n",
        "visualize.display_instances(X_test[1], r['rois'], r['masks'], r['class_ids'], \n",
        "                            dataset_val.class_names, r['scores'])"
      ],
      "execution_count": null,
      "outputs": []
    }
  ]
}